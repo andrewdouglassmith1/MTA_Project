{
 "cells": [
  {
   "cell_type": "markdown",
   "metadata": {},
   "source": [
    "# Importing Libraries"
   ]
  },
  {
   "cell_type": "code",
   "execution_count": 8,
   "metadata": {},
   "outputs": [],
   "source": [
    "import pandas as pd\n",
    "import requests\n",
    "import json\n",
    "import numpy as np\n",
    "from datetime import datetime\n",
    "import matplotlib.pyplot as plt\n",
    "import seaborn as sns\n",
    "%matplotlib inline "
   ]
  },
  {
   "cell_type": "markdown",
   "metadata": {},
   "source": [
    "# Loading MTA Data"
   ]
  },
  {
   "cell_type": "code",
   "execution_count": 9,
   "metadata": {},
   "outputs": [],
   "source": [
    "# Create a function to apply a date to the MTA format URL for each .txt file\n",
    "\n",
    "def url_creator(date):\n",
    "    ''' \n",
    "    A function to apply a date to the MTA format URL for each .txt file\n",
    "    '''\n",
    "    return \"http://web.mta.info/developers/data/nyct/turnstile/turnstile_{}.txt\".format(date)"
   ]
  },
  {
   "cell_type": "code",
   "execution_count": 10,
   "metadata": {},
   "outputs": [
    {
     "name": "stdout",
     "output_type": "stream",
     "text": [
      "['200104', '200111', '200118', '200125', '200201', '200208', '200215', '200222', '200229', '200307', '200314', '200321', '200328', '200404', '200411', '200418', '200425', '200502', '200509', '200516', '200523', '200530', '200606', '200613', '200620', '200627', '200704', '200711', '200718', '200725', '200801', '200808', '200815', '200822', '200829', '200905', '200912', '200919', '200926', '201003', '201010', '201017', '201024', '201031', '201107', '201114', '201121', '201128', '201205', '201212', '201219', '201226']\n"
     ]
    }
   ],
   "source": [
    "# Create a function to return all saturdays \n",
    "\n",
    "def saturdays(start_date,end_date):\n",
    "    ''' \n",
    "    A function to return all saturdays within two given dates\n",
    "    '''\n",
    "    dates = pd.date_range(start = start_date,end = end_date ,freq='W-SAT').strftime('%y%m%d').tolist()\n",
    "    return dates\n",
    "\n",
    "start_date = \"2020-01-01\"\n",
    "end_date = \"2021-01-01\"\n",
    "\n",
    "dates = saturdays(start_date, end_date)\n",
    "print(dates)"
   ]
  },
  {
   "cell_type": "code",
   "execution_count": 11,
   "metadata": {},
   "outputs": [],
   "source": [
    "# creat a list of dataframe's to concat\n",
    "list_df = []\n",
    "\n",
    "# add all .txt files uplodaed for the given dates using the Saturday's function to a single dataframe\n",
    "\n",
    "for date in dates:\n",
    "    # creating a variable holding the basurl for a given date\n",
    "\n",
    "    base_url = url_creator(date)\n",
    "    # add and read each file to a dataframe and add it to the list to be concated\n",
    "    \n",
    "    df = pd.read_csv(str(base_url),parse_dates = [['DATE','TIME']],index_col = 'DATE_TIME')\n",
    "    list_df.append(df)"
   ]
  },
  {
   "cell_type": "code",
   "execution_count": 12,
   "metadata": {},
   "outputs": [],
   "source": [
    "# Consolidate all weekly dataframes into one data frame\n",
    "\n",
    "consolidated_mta_data = pd.concat(list_df)"
   ]
  },
  {
   "cell_type": "code",
   "execution_count": 13,
   "metadata": {},
   "outputs": [],
   "source": [
    "# Save data frame to local \n",
    "\n",
    "consolidated_mta_data.to_csv('consolidated_mta_data.csv')"
   ]
  },
  {
   "cell_type": "code",
   "execution_count": 14,
   "metadata": {},
   "outputs": [
    {
     "data": {
      "text/html": [
       "<div>\n",
       "<style scoped>\n",
       "    .dataframe tbody tr th:only-of-type {\n",
       "        vertical-align: middle;\n",
       "    }\n",
       "\n",
       "    .dataframe tbody tr th {\n",
       "        vertical-align: top;\n",
       "    }\n",
       "\n",
       "    .dataframe thead th {\n",
       "        text-align: right;\n",
       "    }\n",
       "</style>\n",
       "<table border=\"1\" class=\"dataframe\">\n",
       "  <thead>\n",
       "    <tr style=\"text-align: right;\">\n",
       "      <th></th>\n",
       "      <th>DATE_TIME</th>\n",
       "      <th>C/A</th>\n",
       "      <th>UNIT</th>\n",
       "      <th>SCP</th>\n",
       "      <th>STATION</th>\n",
       "      <th>LINENAME</th>\n",
       "      <th>DIVISION</th>\n",
       "      <th>DESC</th>\n",
       "      <th>ENTRIES</th>\n",
       "      <th>EXITS</th>\n",
       "    </tr>\n",
       "  </thead>\n",
       "  <tbody>\n",
       "    <tr>\n",
       "      <th>0</th>\n",
       "      <td>2019-12-28 03:00:00</td>\n",
       "      <td>A002</td>\n",
       "      <td>R051</td>\n",
       "      <td>02-00-00</td>\n",
       "      <td>59 ST</td>\n",
       "      <td>NQR456W</td>\n",
       "      <td>BMT</td>\n",
       "      <td>REGULAR</td>\n",
       "      <td>7324295</td>\n",
       "      <td>2482512</td>\n",
       "    </tr>\n",
       "    <tr>\n",
       "      <th>1</th>\n",
       "      <td>2019-12-28 07:00:00</td>\n",
       "      <td>A002</td>\n",
       "      <td>R051</td>\n",
       "      <td>02-00-00</td>\n",
       "      <td>59 ST</td>\n",
       "      <td>NQR456W</td>\n",
       "      <td>BMT</td>\n",
       "      <td>REGULAR</td>\n",
       "      <td>7324305</td>\n",
       "      <td>2482523</td>\n",
       "    </tr>\n",
       "    <tr>\n",
       "      <th>2</th>\n",
       "      <td>2019-12-28 11:00:00</td>\n",
       "      <td>A002</td>\n",
       "      <td>R051</td>\n",
       "      <td>02-00-00</td>\n",
       "      <td>59 ST</td>\n",
       "      <td>NQR456W</td>\n",
       "      <td>BMT</td>\n",
       "      <td>REGULAR</td>\n",
       "      <td>7324371</td>\n",
       "      <td>2482594</td>\n",
       "    </tr>\n",
       "    <tr>\n",
       "      <th>3</th>\n",
       "      <td>2019-12-28 15:00:00</td>\n",
       "      <td>A002</td>\n",
       "      <td>R051</td>\n",
       "      <td>02-00-00</td>\n",
       "      <td>59 ST</td>\n",
       "      <td>NQR456W</td>\n",
       "      <td>BMT</td>\n",
       "      <td>REGULAR</td>\n",
       "      <td>7324587</td>\n",
       "      <td>2482647</td>\n",
       "    </tr>\n",
       "    <tr>\n",
       "      <th>4</th>\n",
       "      <td>2019-12-28 19:00:00</td>\n",
       "      <td>A002</td>\n",
       "      <td>R051</td>\n",
       "      <td>02-00-00</td>\n",
       "      <td>59 ST</td>\n",
       "      <td>NQR456W</td>\n",
       "      <td>BMT</td>\n",
       "      <td>REGULAR</td>\n",
       "      <td>7324963</td>\n",
       "      <td>2482713</td>\n",
       "    </tr>\n",
       "  </tbody>\n",
       "</table>\n",
       "</div>"
      ],
      "text/plain": [
       "             DATE_TIME   C/A  UNIT       SCP STATION LINENAME DIVISION  \\\n",
       "0  2019-12-28 03:00:00  A002  R051  02-00-00   59 ST  NQR456W      BMT   \n",
       "1  2019-12-28 07:00:00  A002  R051  02-00-00   59 ST  NQR456W      BMT   \n",
       "2  2019-12-28 11:00:00  A002  R051  02-00-00   59 ST  NQR456W      BMT   \n",
       "3  2019-12-28 15:00:00  A002  R051  02-00-00   59 ST  NQR456W      BMT   \n",
       "4  2019-12-28 19:00:00  A002  R051  02-00-00   59 ST  NQR456W      BMT   \n",
       "\n",
       "      DESC  ENTRIES  \\\n",
       "0  REGULAR  7324295   \n",
       "1  REGULAR  7324305   \n",
       "2  REGULAR  7324371   \n",
       "3  REGULAR  7324587   \n",
       "4  REGULAR  7324963   \n",
       "\n",
       "   EXITS                                                                 \n",
       "0                                            2482512                     \n",
       "1                                            2482523                     \n",
       "2                                            2482594                     \n",
       "3                                            2482647                     \n",
       "4                                            2482713                     "
      ]
     },
     "execution_count": 14,
     "metadata": {},
     "output_type": "execute_result"
    }
   ],
   "source": [
    "# Load dataframe \n",
    "\n",
    "df = pd.read_csv(\"consolidated_mta_data.csv\")\n",
    "df.head()"
   ]
  },
  {
   "cell_type": "markdown",
   "metadata": {},
   "source": [
    "# Historical Weather in NYC"
   ]
  },
  {
   "cell_type": "markdown",
   "metadata": {},
   "source": [
    "## 1) Loading Data"
   ]
  },
  {
   "cell_type": "code",
   "execution_count": 15,
   "metadata": {},
   "outputs": [],
   "source": [
    "# add access token from the National Oceanic and Atmospheric Administration (NOAA)\n",
    "\n",
    "token = 'ezGtBYtHkPAhGoeilnLTAThlLXnAQIiF'"
   ]
  },
  {
   "cell_type": "code",
   "execution_count": 16,
   "metadata": {},
   "outputs": [],
   "source": [
    "# Add id for Central Park weather station\n",
    "\n",
    "station_id = \"GHCND:USW00094728\""
   ]
  },
  {
   "cell_type": "code",
   "execution_count": 17,
   "metadata": {},
   "outputs": [],
   "source": [
    "# Create a list of variables to be included in the api call\n",
    "# TMAX = max temperature measured in tenths of degrees C\n",
    "# PRCP = total daily precipation (excludes snow), measured in tenths of milimeters\n",
    "# SNOW = total daily snowfall, measured in millimeters\n",
    "\n",
    "variables = ['TMAX', 'PRCP', 'SNOW'] "
   ]
  },
  {
   "cell_type": "code",
   "execution_count": 18,
   "metadata": {},
   "outputs": [],
   "source": [
    "# Create lists to store data\n",
    "\n",
    "dates_tmax = []\n",
    "dates_prcp = []\n",
    "dates_snow = []\n",
    "tmax = []\n",
    "prcp = []\n",
    "snow = []"
   ]
  },
  {
   "cell_type": "code",
   "execution_count": 19,
   "metadata": {},
   "outputs": [
    {
     "name": "stdout",
     "output_type": "stream",
     "text": [
      "Working on year: 2020 and variable TMAX\n",
      "Working on year: 2020 and variable PRCP\n",
      "Working on year: 2020 and variable SNOW\n"
     ]
    }
   ],
   "source": [
    "# api call to retrieve 2020 data\n",
    "\n",
    "# set the years to include \n",
    "start_year = 2020\n",
    "end_year = 2020\n",
    "\n",
    "for year in range(start_year,end_year+1):\n",
    "    for var in variables:\n",
    "        year = str(year)\n",
    "        print(\"Working on year: {} and variable {}\".format(year,var))\n",
    "\n",
    "        # make the api call\n",
    "        r = requests.get('https://www.ncdc.noaa.gov/cdo-web/api/v2/data?datasetid=GHCND&datatypeid='+var+'&limit=1000&stationid=' + station_id + '&startdate='+year+'-01-01&enddate='+year+'-12-31', headers={'token':token})\n",
    "        # load the api response\n",
    "        d = json.loads(r.text)\n",
    "        \n",
    "        \n",
    "        try:\n",
    "            # get all items in the response for the current variable in the loop\n",
    "            save_metrics = [item for item in d['results'] if item['datatype']==var]\n",
    "        \n",
    "            if var == 'TMAX':\n",
    "            \n",
    "                # get the date field for each entry\n",
    "                dates_tmax = [item['date'] for item in save_metrics]\n",
    "            \n",
    "                # get the corressponding date for each temperature entry\n",
    "                tmax = [item['value'] for item in save_metrics]\n",
    "        \n",
    "            elif var == 'PRCP':\n",
    "            \n",
    "                # get the date field for each entry\n",
    "                dates_prcp = [item['date'] for item in save_metrics]\n",
    "            \n",
    "                # get the corressponding date for each temperature entry\n",
    "                prcp = [item['value'] for item in save_metrics]\n",
    "        \n",
    "            elif var == 'SNOW':\n",
    "            \n",
    "                # get the date field for each entry\n",
    "                dates_snow = [item['date'] for item in save_metrics]\n",
    "            \n",
    "                # get the corressponding date for each temperature entry\n",
    "                snow = [item['value'] for item in save_metrics]\n",
    "            \n",
    "        except:\n",
    "            pass"
   ]
  },
  {
   "cell_type": "code",
   "execution_count": 20,
   "metadata": {},
   "outputs": [],
   "source": [
    "# Populating dataframes for each variable (date and variable value), converting dates to datetime\n",
    "\n",
    "#Start with max temperature (convering to degrees fahrenheight from tenths of degrees C)\n",
    "\n",
    "df_avg_temp = pd.DataFrame()\n",
    "df_avg_temp['date'] = [datetime.strptime(d,\"%Y-%m-%dT%H:%M:%S\") for d in dates_tmax]\n",
    "df_avg_temp['max_temp'] = [float(temp)/10.0 * 1.8 + 32 for temp in tmax]\n",
    "\n",
    "# Working on Precipation (converting to inches from tenths of mm)\n",
    "\n",
    "df_prcp = pd.DataFrame()\n",
    "df_prcp['date'] = [datetime.strptime(d,\"%Y-%m-%dT%H:%M:%S\") for d in dates_prcp]\n",
    "df_prcp['total_prcp'] = [float(p)/10 * 0.0393701 for p in prcp]\n",
    "\n",
    "\n",
    "# Working on Snow (converting to inches from mm)\n",
    "\n",
    "df_snow = pd.DataFrame()\n",
    "df_snow['date'] = [datetime.strptime(d,\"%Y-%m-%dT%H:%M:%S\") for d in dates_snow]\n",
    "df_snow['total_snow'] = [float(p)* 0.0393701 for p in snow]"
   ]
  },
  {
   "cell_type": "code",
   "execution_count": 21,
   "metadata": {},
   "outputs": [],
   "source": [
    "# Merging all dataframes on date\n",
    "\n",
    "# Merging max_temp and prcp\n",
    "df_agg = pd.merge(left = df_avg_temp, right = df_prcp, left_on= 'date',right_on = 'date')\n",
    "\n",
    "# Merging df_agg (includes max_temp and prcp) with snow\n",
    "df_weather = pd.merge(left = df_agg, right = df_snow, left_on= 'date',right_on = 'date')"
   ]
  },
  {
   "cell_type": "markdown",
   "metadata": {},
   "source": [
    "## 2) EDA on weather data"
   ]
  },
  {
   "cell_type": "code",
   "execution_count": 22,
   "metadata": {},
   "outputs": [
    {
     "data": {
      "text/plain": [
       "array([[<AxesSubplot:title={'center':'total_prcp'}>]], dtype=object)"
      ]
     },
     "execution_count": 22,
     "metadata": {},
     "output_type": "execute_result"
    },
    {
     "data": {
      "image/png": "[encoded data removed]",
      "text/plain": [
       "<Figure size 432x288 with 1 Axes>"
      ]
     },
     "metadata": {
      "needs_background": "light"
     },
     "output_type": "display_data"
    }
   ],
   "source": [
    "# temperature\n",
    "df_weather.hist(column =\"total_prcp\")"
   ]
  },
  {
   "cell_type": "code",
   "execution_count": 23,
   "metadata": {},
   "outputs": [
    {
     "data": {
      "text/plain": [
       "array([[<AxesSubplot:title={'center':'total_snow'}>]], dtype=object)"
      ]
     },
     "execution_count": 23,
     "metadata": {},
     "output_type": "execute_result"
    },
    {
     "data": {
      "image/png": "[encoded data removed]",
      "text/plain": [
       "<Figure size 432x288 with 1 Axes>"
      ]
     },
     "metadata": {
      "needs_background": "light"
     },
     "output_type": "display_data"
    }
   ],
   "source": [
    "df_weather.hist(column =\"total_snow\")"
   ]
  },
  {
   "cell_type": "code",
   "execution_count": 24,
   "metadata": {},
   "outputs": [
    {
     "data": {
      "text/plain": [
       "array([[<AxesSubplot:title={'center':'max_temp'}>]], dtype=object)"
      ]
     },
     "execution_count": 24,
     "metadata": {},
     "output_type": "execute_result"
    },
    {
     "data": {
      "image/png": "[encoded data removed]",
      "text/plain": [
       "<Figure size 432x288 with 1 Axes>"
      ]
     },
     "metadata": {
      "needs_background": "light"
     },
     "output_type": "display_data"
    }
   ],
   "source": [
    "df_weather.hist(column=\"max_temp\")"
   ]
  },
  {
   "cell_type": "markdown",
   "metadata": {},
   "source": [
    "## 3) Initializing Variables"
   ]
  },
  {
   "cell_type": "code",
   "execution_count": 25,
   "metadata": {},
   "outputs": [],
   "source": [
    "# Create a variable that groups all days that are \"rainy\" as a 1 if daily precipation is greater than 0.25 incehs and if not a 0\n",
    "\n",
    "df_weather['rainy_day'] = np.where(df_weather['total_prcp']> 0.25, \"rainy\", \"not rainy\")"
   ]
  },
  {
   "cell_type": "code",
   "execution_count": 26,
   "metadata": {},
   "outputs": [],
   "source": [
    "# Create a variable that groups all days that are \"snowy\" as a 1 if daily snowfall is greater than 2.0 incehs and if not a 0\n",
    "\n",
    "df_weather['snowy_day'] = np.where(df_weather['total_snow']> 2.0, \"snow\", \"not snowy\")"
   ]
  },
  {
   "cell_type": "code",
   "execution_count": 27,
   "metadata": {},
   "outputs": [],
   "source": [
    "# Create a variable that groups all days that are \"hot\" as a 1 if daily max temp is greater than 80.0 degrees fahrenheit and if not a 0\n",
    "\n",
    "\n",
    "df_weather['hot_day'] = np.where(df_weather['max_temp']> 80.0, \"hot\", \"not hot\")"
   ]
  },
  {
   "cell_type": "code",
   "execution_count": 28,
   "metadata": {},
   "outputs": [],
   "source": [
    "# Create a variable that groups all days that are \"cold\" as a 1 if daily max temp is less than 40 degrees fahrenheit and if not a 0\n",
    "\n",
    "\n",
    "df_weather['cold_day'] = np.where(df_weather['max_temp']< 40.0, \"cold\", \"not cold\")"
   ]
  },
  {
   "cell_type": "code",
   "execution_count": 29,
   "metadata": {},
   "outputs": [
    {
     "data": {
      "text/html": [
       "<div>\n",
       "<style scoped>\n",
       "    .dataframe tbody tr th:only-of-type {\n",
       "        vertical-align: middle;\n",
       "    }\n",
       "\n",
       "    .dataframe tbody tr th {\n",
       "        vertical-align: top;\n",
       "    }\n",
       "\n",
       "    .dataframe thead th {\n",
       "        text-align: right;\n",
       "    }\n",
       "</style>\n",
       "<table border=\"1\" class=\"dataframe\">\n",
       "  <thead>\n",
       "    <tr style=\"text-align: right;\">\n",
       "      <th></th>\n",
       "      <th>date</th>\n",
       "      <th>max_temp</th>\n",
       "      <th>total_prcp</th>\n",
       "      <th>total_snow</th>\n",
       "      <th>rainy_day</th>\n",
       "      <th>snowy_day</th>\n",
       "      <th>hot_day</th>\n",
       "      <th>cold_day</th>\n",
       "    </tr>\n",
       "  </thead>\n",
       "  <tbody>\n",
       "    <tr>\n",
       "      <th>0</th>\n",
       "      <td>2020-01-01</td>\n",
       "      <td>41.00</td>\n",
       "      <td>0.000000</td>\n",
       "      <td>0.0</td>\n",
       "      <td>not rainy</td>\n",
       "      <td>not snowy</td>\n",
       "      <td>not hot</td>\n",
       "      <td>not cold</td>\n",
       "    </tr>\n",
       "    <tr>\n",
       "      <th>1</th>\n",
       "      <td>2020-01-02</td>\n",
       "      <td>48.92</td>\n",
       "      <td>0.000000</td>\n",
       "      <td>0.0</td>\n",
       "      <td>not rainy</td>\n",
       "      <td>not snowy</td>\n",
       "      <td>not hot</td>\n",
       "      <td>not cold</td>\n",
       "    </tr>\n",
       "    <tr>\n",
       "      <th>2</th>\n",
       "      <td>2020-01-03</td>\n",
       "      <td>48.92</td>\n",
       "      <td>0.149606</td>\n",
       "      <td>0.0</td>\n",
       "      <td>not rainy</td>\n",
       "      <td>not snowy</td>\n",
       "      <td>not hot</td>\n",
       "      <td>not cold</td>\n",
       "    </tr>\n",
       "    <tr>\n",
       "      <th>3</th>\n",
       "      <td>2020-01-04</td>\n",
       "      <td>51.08</td>\n",
       "      <td>0.271654</td>\n",
       "      <td>0.0</td>\n",
       "      <td>rainy</td>\n",
       "      <td>not snowy</td>\n",
       "      <td>not hot</td>\n",
       "      <td>not cold</td>\n",
       "    </tr>\n",
       "    <tr>\n",
       "      <th>4</th>\n",
       "      <td>2020-01-05</td>\n",
       "      <td>42.08</td>\n",
       "      <td>0.000000</td>\n",
       "      <td>0.0</td>\n",
       "      <td>not rainy</td>\n",
       "      <td>not snowy</td>\n",
       "      <td>not hot</td>\n",
       "      <td>not cold</td>\n",
       "    </tr>\n",
       "  </tbody>\n",
       "</table>\n",
       "</div>"
      ],
      "text/plain": [
       "        date  max_temp  total_prcp  total_snow  rainy_day  snowy_day  hot_day  \\\n",
       "0 2020-01-01     41.00    0.000000         0.0  not rainy  not snowy  not hot   \n",
       "1 2020-01-02     48.92    0.000000         0.0  not rainy  not snowy  not hot   \n",
       "2 2020-01-03     48.92    0.149606         0.0  not rainy  not snowy  not hot   \n",
       "3 2020-01-04     51.08    0.271654         0.0      rainy  not snowy  not hot   \n",
       "4 2020-01-05     42.08    0.000000         0.0  not rainy  not snowy  not hot   \n",
       "\n",
       "   cold_day  \n",
       "0  not cold  \n",
       "1  not cold  \n",
       "2  not cold  \n",
       "3  not cold  \n",
       "4  not cold  "
      ]
     },
     "execution_count": 29,
     "metadata": {},
     "output_type": "execute_result"
    }
   ],
   "source": [
    "df_weather.head()"
   ]
  },
  {
   "cell_type": "markdown",
   "metadata": {},
   "source": [
    "## 4) Save to local"
   ]
  },
  {
   "cell_type": "code",
   "execution_count": 30,
   "metadata": {},
   "outputs": [],
   "source": [
    "df_weather.to_csv('nyc_weather.csv')"
   ]
  },
  {
   "cell_type": "markdown",
   "metadata": {},
   "source": [
    "# Cleaning MTAData"
   ]
  },
  {
   "cell_type": "code",
   "execution_count": 31,
   "metadata": {},
   "outputs": [],
   "source": [
    "# Convert to date_time"
   ]
  },
  {
   "cell_type": "code",
   "execution_count": 32,
   "metadata": {},
   "outputs": [],
   "source": [
    "df['DATE_TIME'] = pd.to_datetime(df['DATE_TIME'])"
   ]
  },
  {
   "cell_type": "code",
   "execution_count": 33,
   "metadata": {},
   "outputs": [
    {
     "data": {
      "text/html": [
       "<div>\n",
       "<style scoped>\n",
       "    .dataframe tbody tr th:only-of-type {\n",
       "        vertical-align: middle;\n",
       "    }\n",
       "\n",
       "    .dataframe tbody tr th {\n",
       "        vertical-align: top;\n",
       "    }\n",
       "\n",
       "    .dataframe thead th {\n",
       "        text-align: right;\n",
       "    }\n",
       "</style>\n",
       "<table border=\"1\" class=\"dataframe\">\n",
       "  <thead>\n",
       "    <tr style=\"text-align: right;\">\n",
       "      <th></th>\n",
       "      <th>C/A</th>\n",
       "      <th>UNIT</th>\n",
       "      <th>SCP</th>\n",
       "      <th>STATION</th>\n",
       "      <th>DATE_TIME</th>\n",
       "      <th>ENTRIES</th>\n",
       "    </tr>\n",
       "  </thead>\n",
       "  <tbody>\n",
       "    <tr>\n",
       "      <th>9732218</th>\n",
       "      <td>R514</td>\n",
       "      <td>R094</td>\n",
       "      <td>00-05-00</td>\n",
       "      <td>ASTORIA BLVD</td>\n",
       "      <td>2020-01-18 23:00:00</td>\n",
       "      <td>2</td>\n",
       "    </tr>\n",
       "    <tr>\n",
       "      <th>6885156</th>\n",
       "      <td>R110</td>\n",
       "      <td>R027</td>\n",
       "      <td>01-00-02</td>\n",
       "      <td>WALL ST</td>\n",
       "      <td>2020-12-15 07:00:00</td>\n",
       "      <td>2</td>\n",
       "    </tr>\n",
       "    <tr>\n",
       "      <th>6885154</th>\n",
       "      <td>R110</td>\n",
       "      <td>R027</td>\n",
       "      <td>01-00-02</td>\n",
       "      <td>WALL ST</td>\n",
       "      <td>2020-12-14 23:00:00</td>\n",
       "      <td>2</td>\n",
       "    </tr>\n",
       "    <tr>\n",
       "      <th>9732219</th>\n",
       "      <td>R514</td>\n",
       "      <td>R094</td>\n",
       "      <td>00-05-00</td>\n",
       "      <td>ASTORIA BLVD</td>\n",
       "      <td>2020-01-19 03:00:00</td>\n",
       "      <td>2</td>\n",
       "    </tr>\n",
       "    <tr>\n",
       "      <th>9732235</th>\n",
       "      <td>R514</td>\n",
       "      <td>R094</td>\n",
       "      <td>00-05-00</td>\n",
       "      <td>ASTORIA BLVD</td>\n",
       "      <td>2020-01-21 19:00:00</td>\n",
       "      <td>2</td>\n",
       "    </tr>\n",
       "    <tr>\n",
       "      <th>9732217</th>\n",
       "      <td>R514</td>\n",
       "      <td>R094</td>\n",
       "      <td>00-05-00</td>\n",
       "      <td>ASTORIA BLVD</td>\n",
       "      <td>2020-01-18 19:00:00</td>\n",
       "      <td>2</td>\n",
       "    </tr>\n",
       "    <tr>\n",
       "      <th>5977407</th>\n",
       "      <td>N701</td>\n",
       "      <td>R571</td>\n",
       "      <td>00-00-00</td>\n",
       "      <td>86 ST-2 AVE</td>\n",
       "      <td>2020-09-24 09:00:00</td>\n",
       "      <td>2</td>\n",
       "    </tr>\n",
       "    <tr>\n",
       "      <th>9732216</th>\n",
       "      <td>R514</td>\n",
       "      <td>R094</td>\n",
       "      <td>00-05-00</td>\n",
       "      <td>ASTORIA BLVD</td>\n",
       "      <td>2020-01-18 15:00:00</td>\n",
       "      <td>2</td>\n",
       "    </tr>\n",
       "    <tr>\n",
       "      <th>9732215</th>\n",
       "      <td>R514</td>\n",
       "      <td>R094</td>\n",
       "      <td>00-05-00</td>\n",
       "      <td>ASTORIA BLVD</td>\n",
       "      <td>2020-01-18 11:00:00</td>\n",
       "      <td>2</td>\n",
       "    </tr>\n",
       "    <tr>\n",
       "      <th>1745184</th>\n",
       "      <td>H009</td>\n",
       "      <td>R235</td>\n",
       "      <td>00-06-03</td>\n",
       "      <td>BEDFORD AV</td>\n",
       "      <td>2020-08-12 16:00:00</td>\n",
       "      <td>2</td>\n",
       "    </tr>\n",
       "    <tr>\n",
       "      <th>1745185</th>\n",
       "      <td>H009</td>\n",
       "      <td>R235</td>\n",
       "      <td>00-06-03</td>\n",
       "      <td>BEDFORD AV</td>\n",
       "      <td>2020-08-12 20:00:00</td>\n",
       "      <td>2</td>\n",
       "    </tr>\n",
       "    <tr>\n",
       "      <th>9732214</th>\n",
       "      <td>R514</td>\n",
       "      <td>R094</td>\n",
       "      <td>00-05-00</td>\n",
       "      <td>ASTORIA BLVD</td>\n",
       "      <td>2020-01-18 07:00:00</td>\n",
       "      <td>2</td>\n",
       "    </tr>\n",
       "    <tr>\n",
       "      <th>9732213</th>\n",
       "      <td>R514</td>\n",
       "      <td>R094</td>\n",
       "      <td>00-05-00</td>\n",
       "      <td>ASTORIA BLVD</td>\n",
       "      <td>2020-01-18 03:00:00</td>\n",
       "      <td>2</td>\n",
       "    </tr>\n",
       "    <tr>\n",
       "      <th>9732236</th>\n",
       "      <td>R514</td>\n",
       "      <td>R094</td>\n",
       "      <td>00-05-00</td>\n",
       "      <td>ASTORIA BLVD</td>\n",
       "      <td>2020-01-21 23:00:00</td>\n",
       "      <td>2</td>\n",
       "    </tr>\n",
       "    <tr>\n",
       "      <th>1745189</th>\n",
       "      <td>H009</td>\n",
       "      <td>R235</td>\n",
       "      <td>00-06-03</td>\n",
       "      <td>BEDFORD AV</td>\n",
       "      <td>2020-08-13 00:00:00</td>\n",
       "      <td>2</td>\n",
       "    </tr>\n",
       "    <tr>\n",
       "      <th>1745190</th>\n",
       "      <td>H009</td>\n",
       "      <td>R235</td>\n",
       "      <td>00-06-03</td>\n",
       "      <td>BEDFORD AV</td>\n",
       "      <td>2020-08-13 04:00:00</td>\n",
       "      <td>2</td>\n",
       "    </tr>\n",
       "    <tr>\n",
       "      <th>9732237</th>\n",
       "      <td>R514</td>\n",
       "      <td>R094</td>\n",
       "      <td>00-05-00</td>\n",
       "      <td>ASTORIA BLVD</td>\n",
       "      <td>2020-01-22 03:00:00</td>\n",
       "      <td>2</td>\n",
       "    </tr>\n",
       "    <tr>\n",
       "      <th>9732238</th>\n",
       "      <td>R514</td>\n",
       "      <td>R094</td>\n",
       "      <td>00-05-00</td>\n",
       "      <td>ASTORIA BLVD</td>\n",
       "      <td>2020-01-22 07:00:00</td>\n",
       "      <td>2</td>\n",
       "    </tr>\n",
       "    <tr>\n",
       "      <th>1634571</th>\n",
       "      <td>H001</td>\n",
       "      <td>R175</td>\n",
       "      <td>00-00-02</td>\n",
       "      <td>8 AV</td>\n",
       "      <td>2020-02-01 00:00:00</td>\n",
       "      <td>2</td>\n",
       "    </tr>\n",
       "    <tr>\n",
       "      <th>5473267</th>\n",
       "      <td>N532</td>\n",
       "      <td>R129</td>\n",
       "      <td>00-00-00</td>\n",
       "      <td>BERGEN ST</td>\n",
       "      <td>2020-08-31 17:00:00</td>\n",
       "      <td>2</td>\n",
       "    </tr>\n",
       "  </tbody>\n",
       "</table>\n",
       "</div>"
      ],
      "text/plain": [
       "          C/A  UNIT       SCP       STATION           DATE_TIME  ENTRIES\n",
       "9732218  R514  R094  00-05-00  ASTORIA BLVD 2020-01-18 23:00:00        2\n",
       "6885156  R110  R027  01-00-02       WALL ST 2020-12-15 07:00:00        2\n",
       "6885154  R110  R027  01-00-02       WALL ST 2020-12-14 23:00:00        2\n",
       "9732219  R514  R094  00-05-00  ASTORIA BLVD 2020-01-19 03:00:00        2\n",
       "9732235  R514  R094  00-05-00  ASTORIA BLVD 2020-01-21 19:00:00        2\n",
       "9732217  R514  R094  00-05-00  ASTORIA BLVD 2020-01-18 19:00:00        2\n",
       "5977407  N701  R571  00-00-00   86 ST-2 AVE 2020-09-24 09:00:00        2\n",
       "9732216  R514  R094  00-05-00  ASTORIA BLVD 2020-01-18 15:00:00        2\n",
       "9732215  R514  R094  00-05-00  ASTORIA BLVD 2020-01-18 11:00:00        2\n",
       "1745184  H009  R235  00-06-03    BEDFORD AV 2020-08-12 16:00:00        2\n",
       "1745185  H009  R235  00-06-03    BEDFORD AV 2020-08-12 20:00:00        2\n",
       "9732214  R514  R094  00-05-00  ASTORIA BLVD 2020-01-18 07:00:00        2\n",
       "9732213  R514  R094  00-05-00  ASTORIA BLVD 2020-01-18 03:00:00        2\n",
       "9732236  R514  R094  00-05-00  ASTORIA BLVD 2020-01-21 23:00:00        2\n",
       "1745189  H009  R235  00-06-03    BEDFORD AV 2020-08-13 00:00:00        2\n",
       "1745190  H009  R235  00-06-03    BEDFORD AV 2020-08-13 04:00:00        2\n",
       "9732237  R514  R094  00-05-00  ASTORIA BLVD 2020-01-22 03:00:00        2\n",
       "9732238  R514  R094  00-05-00  ASTORIA BLVD 2020-01-22 07:00:00        2\n",
       "1634571  H001  R175  00-00-02          8 AV 2020-02-01 00:00:00        2\n",
       "5473267  N532  R129  00-00-00     BERGEN ST 2020-08-31 17:00:00        2"
      ]
     },
     "execution_count": 33,
     "metadata": {},
     "output_type": "execute_result"
    }
   ],
   "source": [
    "# Sanity Check to verify that \"C/A\", \"UNIT\", \"SCP\", \"STATION\", \"DATE_TIME\" is unique\n",
    "(df\n",
    " .groupby([\"C/A\", \"UNIT\", \"SCP\", \"STATION\", \"DATE_TIME\"])\n",
    " .ENTRIES.count()\n",
    " .reset_index()\n",
    " .sort_values(\"ENTRIES\", ascending=False)).head(20)"
   ]
  },
  {
   "cell_type": "code",
   "execution_count": 34,
   "metadata": {},
   "outputs": [],
   "source": [
    "# Get rid of the duplicate entry\n",
    "df.sort_values([\"C/A\", \"UNIT\", \"SCP\", \"STATION\", \"DATE_TIME\"], \n",
    "                          inplace=True, ascending=False)\n",
    "df.drop_duplicates(subset=[\"C/A\", \"UNIT\", \"SCP\", \"STATION\", \"DATE_TIME\"], inplace=True)"
   ]
  },
  {
   "cell_type": "code",
   "execution_count": 35,
   "metadata": {},
   "outputs": [
    {
     "data": {
      "text/html": [
       "<div>\n",
       "<style scoped>\n",
       "    .dataframe tbody tr th:only-of-type {\n",
       "        vertical-align: middle;\n",
       "    }\n",
       "\n",
       "    .dataframe tbody tr th {\n",
       "        vertical-align: top;\n",
       "    }\n",
       "\n",
       "    .dataframe thead th {\n",
       "        text-align: right;\n",
       "    }\n",
       "</style>\n",
       "<table border=\"1\" class=\"dataframe\">\n",
       "  <thead>\n",
       "    <tr style=\"text-align: right;\">\n",
       "      <th></th>\n",
       "      <th>C/A</th>\n",
       "      <th>UNIT</th>\n",
       "      <th>SCP</th>\n",
       "      <th>STATION</th>\n",
       "      <th>DATE_TIME</th>\n",
       "      <th>ENTRIES</th>\n",
       "    </tr>\n",
       "  </thead>\n",
       "  <tbody>\n",
       "    <tr>\n",
       "      <th>0</th>\n",
       "      <td>A002</td>\n",
       "      <td>R051</td>\n",
       "      <td>02-00-00</td>\n",
       "      <td>59 ST</td>\n",
       "      <td>2019-12-28 03:00:00</td>\n",
       "      <td>1</td>\n",
       "    </tr>\n",
       "    <tr>\n",
       "      <th>7213435</th>\n",
       "      <td>R138</td>\n",
       "      <td>R293</td>\n",
       "      <td>00-03-02</td>\n",
       "      <td>34 ST-PENN STA</td>\n",
       "      <td>2020-05-05 22:00:00</td>\n",
       "      <td>1</td>\n",
       "    </tr>\n",
       "    <tr>\n",
       "      <th>7213437</th>\n",
       "      <td>R138</td>\n",
       "      <td>R293</td>\n",
       "      <td>00-03-02</td>\n",
       "      <td>34 ST-PENN STA</td>\n",
       "      <td>2020-05-06 06:00:00</td>\n",
       "      <td>1</td>\n",
       "    </tr>\n",
       "    <tr>\n",
       "      <th>7213438</th>\n",
       "      <td>R138</td>\n",
       "      <td>R293</td>\n",
       "      <td>00-03-02</td>\n",
       "      <td>34 ST-PENN STA</td>\n",
       "      <td>2020-05-06 10:00:00</td>\n",
       "      <td>1</td>\n",
       "    </tr>\n",
       "    <tr>\n",
       "      <th>7213439</th>\n",
       "      <td>R138</td>\n",
       "      <td>R293</td>\n",
       "      <td>00-03-02</td>\n",
       "      <td>34 ST-PENN STA</td>\n",
       "      <td>2020-05-06 14:00:00</td>\n",
       "      <td>1</td>\n",
       "    </tr>\n",
       "    <tr>\n",
       "      <th>7213440</th>\n",
       "      <td>R138</td>\n",
       "      <td>R293</td>\n",
       "      <td>00-03-02</td>\n",
       "      <td>34 ST-PENN STA</td>\n",
       "      <td>2020-05-06 18:00:00</td>\n",
       "      <td>1</td>\n",
       "    </tr>\n",
       "    <tr>\n",
       "      <th>7213441</th>\n",
       "      <td>R138</td>\n",
       "      <td>R293</td>\n",
       "      <td>00-03-02</td>\n",
       "      <td>34 ST-PENN STA</td>\n",
       "      <td>2020-05-06 22:00:00</td>\n",
       "      <td>1</td>\n",
       "    </tr>\n",
       "    <tr>\n",
       "      <th>7213442</th>\n",
       "      <td>R138</td>\n",
       "      <td>R293</td>\n",
       "      <td>00-03-02</td>\n",
       "      <td>34 ST-PENN STA</td>\n",
       "      <td>2020-05-07 02:00:00</td>\n",
       "      <td>1</td>\n",
       "    </tr>\n",
       "    <tr>\n",
       "      <th>7213443</th>\n",
       "      <td>R138</td>\n",
       "      <td>R293</td>\n",
       "      <td>00-03-02</td>\n",
       "      <td>34 ST-PENN STA</td>\n",
       "      <td>2020-05-07 06:00:00</td>\n",
       "      <td>1</td>\n",
       "    </tr>\n",
       "    <tr>\n",
       "      <th>7213444</th>\n",
       "      <td>R138</td>\n",
       "      <td>R293</td>\n",
       "      <td>00-03-02</td>\n",
       "      <td>34 ST-PENN STA</td>\n",
       "      <td>2020-05-07 10:00:00</td>\n",
       "      <td>1</td>\n",
       "    </tr>\n",
       "    <tr>\n",
       "      <th>7213445</th>\n",
       "      <td>R138</td>\n",
       "      <td>R293</td>\n",
       "      <td>00-03-02</td>\n",
       "      <td>34 ST-PENN STA</td>\n",
       "      <td>2020-05-07 14:00:00</td>\n",
       "      <td>1</td>\n",
       "    </tr>\n",
       "    <tr>\n",
       "      <th>7213446</th>\n",
       "      <td>R138</td>\n",
       "      <td>R293</td>\n",
       "      <td>00-03-02</td>\n",
       "      <td>34 ST-PENN STA</td>\n",
       "      <td>2020-05-07 18:00:00</td>\n",
       "      <td>1</td>\n",
       "    </tr>\n",
       "    <tr>\n",
       "      <th>7213447</th>\n",
       "      <td>R138</td>\n",
       "      <td>R293</td>\n",
       "      <td>00-03-02</td>\n",
       "      <td>34 ST-PENN STA</td>\n",
       "      <td>2020-05-07 22:00:00</td>\n",
       "      <td>1</td>\n",
       "    </tr>\n",
       "    <tr>\n",
       "      <th>7213448</th>\n",
       "      <td>R138</td>\n",
       "      <td>R293</td>\n",
       "      <td>00-03-02</td>\n",
       "      <td>34 ST-PENN STA</td>\n",
       "      <td>2020-05-08 02:00:00</td>\n",
       "      <td>1</td>\n",
       "    </tr>\n",
       "    <tr>\n",
       "      <th>7213449</th>\n",
       "      <td>R138</td>\n",
       "      <td>R293</td>\n",
       "      <td>00-03-02</td>\n",
       "      <td>34 ST-PENN STA</td>\n",
       "      <td>2020-05-08 06:00:00</td>\n",
       "      <td>1</td>\n",
       "    </tr>\n",
       "    <tr>\n",
       "      <th>7213450</th>\n",
       "      <td>R138</td>\n",
       "      <td>R293</td>\n",
       "      <td>00-03-02</td>\n",
       "      <td>34 ST-PENN STA</td>\n",
       "      <td>2020-05-08 10:00:00</td>\n",
       "      <td>1</td>\n",
       "    </tr>\n",
       "    <tr>\n",
       "      <th>7213451</th>\n",
       "      <td>R138</td>\n",
       "      <td>R293</td>\n",
       "      <td>00-03-02</td>\n",
       "      <td>34 ST-PENN STA</td>\n",
       "      <td>2020-05-08 14:00:00</td>\n",
       "      <td>1</td>\n",
       "    </tr>\n",
       "    <tr>\n",
       "      <th>7213452</th>\n",
       "      <td>R138</td>\n",
       "      <td>R293</td>\n",
       "      <td>00-03-02</td>\n",
       "      <td>34 ST-PENN STA</td>\n",
       "      <td>2020-05-08 18:00:00</td>\n",
       "      <td>1</td>\n",
       "    </tr>\n",
       "    <tr>\n",
       "      <th>7213453</th>\n",
       "      <td>R138</td>\n",
       "      <td>R293</td>\n",
       "      <td>00-03-02</td>\n",
       "      <td>34 ST-PENN STA</td>\n",
       "      <td>2020-05-08 22:00:00</td>\n",
       "      <td>1</td>\n",
       "    </tr>\n",
       "    <tr>\n",
       "      <th>7213436</th>\n",
       "      <td>R138</td>\n",
       "      <td>R293</td>\n",
       "      <td>00-03-02</td>\n",
       "      <td>34 ST-PENN STA</td>\n",
       "      <td>2020-05-06 02:00:00</td>\n",
       "      <td>1</td>\n",
       "    </tr>\n",
       "  </tbody>\n",
       "</table>\n",
       "</div>"
      ],
      "text/plain": [
       "          C/A  UNIT       SCP         STATION           DATE_TIME  ENTRIES\n",
       "0        A002  R051  02-00-00           59 ST 2019-12-28 03:00:00        1\n",
       "7213435  R138  R293  00-03-02  34 ST-PENN STA 2020-05-05 22:00:00        1\n",
       "7213437  R138  R293  00-03-02  34 ST-PENN STA 2020-05-06 06:00:00        1\n",
       "7213438  R138  R293  00-03-02  34 ST-PENN STA 2020-05-06 10:00:00        1\n",
       "7213439  R138  R293  00-03-02  34 ST-PENN STA 2020-05-06 14:00:00        1\n",
       "7213440  R138  R293  00-03-02  34 ST-PENN STA 2020-05-06 18:00:00        1\n",
       "7213441  R138  R293  00-03-02  34 ST-PENN STA 2020-05-06 22:00:00        1\n",
       "7213442  R138  R293  00-03-02  34 ST-PENN STA 2020-05-07 02:00:00        1\n",
       "7213443  R138  R293  00-03-02  34 ST-PENN STA 2020-05-07 06:00:00        1\n",
       "7213444  R138  R293  00-03-02  34 ST-PENN STA 2020-05-07 10:00:00        1\n",
       "7213445  R138  R293  00-03-02  34 ST-PENN STA 2020-05-07 14:00:00        1\n",
       "7213446  R138  R293  00-03-02  34 ST-PENN STA 2020-05-07 18:00:00        1\n",
       "7213447  R138  R293  00-03-02  34 ST-PENN STA 2020-05-07 22:00:00        1\n",
       "7213448  R138  R293  00-03-02  34 ST-PENN STA 2020-05-08 02:00:00        1\n",
       "7213449  R138  R293  00-03-02  34 ST-PENN STA 2020-05-08 06:00:00        1\n",
       "7213450  R138  R293  00-03-02  34 ST-PENN STA 2020-05-08 10:00:00        1\n",
       "7213451  R138  R293  00-03-02  34 ST-PENN STA 2020-05-08 14:00:00        1\n",
       "7213452  R138  R293  00-03-02  34 ST-PENN STA 2020-05-08 18:00:00        1\n",
       "7213453  R138  R293  00-03-02  34 ST-PENN STA 2020-05-08 22:00:00        1\n",
       "7213436  R138  R293  00-03-02  34 ST-PENN STA 2020-05-06 02:00:00        1"
      ]
     },
     "execution_count": 35,
     "metadata": {},
     "output_type": "execute_result"
    }
   ],
   "source": [
    "# Sanity Check to verify that \"C/A\", \"UNIT\", \"SCP\", \"STATION\", \"DATE_TIME\" is unique\n",
    "(df\n",
    " .groupby([\"C/A\", \"UNIT\", \"SCP\", \"STATION\", \"DATE_TIME\"])\n",
    " .ENTRIES.count()\n",
    " .reset_index()\n",
    " .sort_values(\"ENTRIES\", ascending=False)).head(20)"
   ]
  },
  {
   "cell_type": "code",
   "execution_count": 36,
   "metadata": {},
   "outputs": [
    {
     "data": {
      "text/plain": [
       "DATE_TIME                                                               datetime64[ns]\n",
       "C/A                                                                             object\n",
       "UNIT                                                                            object\n",
       "SCP                                                                             object\n",
       "STATION                                                                         object\n",
       "LINENAME                                                                        object\n",
       "DIVISION                                                                        object\n",
       "DESC                                                                            object\n",
       "ENTRIES                                                                          int64\n",
       "EXITS                                                                            int64\n",
       "dtype: object"
      ]
     },
     "execution_count": 36,
     "metadata": {},
     "output_type": "execute_result"
    }
   ],
   "source": [
    "df.dtypes"
   ]
  },
  {
   "cell_type": "code",
   "execution_count": 37,
   "metadata": {},
   "outputs": [
    {
     "data": {
      "text/plain": [
       "DATE_TIME                                                               datetime64[ns]\n",
       "C/A                                                                             object\n",
       "UNIT                                                                            object\n",
       "SCP                                                                             object\n",
       "STATION                                                                         object\n",
       "LINENAME                                                                        object\n",
       "DIVISION                                                                        object\n",
       "DESC                                                                            object\n",
       "ENTRIES                                                                          int64\n",
       "EXITS                                                                            int64\n",
       "DATE                                                                            object\n",
       "dtype: object"
      ]
     },
     "execution_count": 37,
     "metadata": {},
     "output_type": "execute_result"
    }
   ],
   "source": [
    "# create a date only variable (remove hours and minutes)\n",
    "\n",
    "df['DATE'] = df['DATE_TIME'].dt.date\n",
    "df.head()\n",
    "df.dtypes"
   ]
  },
  {
   "cell_type": "markdown",
   "metadata": {},
   "source": [
    "### Back to cleaning MTA Data..."
   ]
  },
  {
   "cell_type": "code",
   "execution_count": 38,
   "metadata": {},
   "outputs": [],
   "source": [
    "# Creating a dataframe grouping by day\n",
    "\n",
    "turnstiles_daily = (df\n",
    "                        .groupby([\"C/A\", \"UNIT\", \"SCP\", \"STATION\", \"DATE\"],as_index=False)\n",
    "                        .ENTRIES.first())"
   ]
  },
  {
   "cell_type": "code",
   "execution_count": 39,
   "metadata": {},
   "outputs": [
    {
     "data": {
      "text/html": [
       "<div>\n",
       "<style scoped>\n",
       "    .dataframe tbody tr th:only-of-type {\n",
       "        vertical-align: middle;\n",
       "    }\n",
       "\n",
       "    .dataframe tbody tr th {\n",
       "        vertical-align: top;\n",
       "    }\n",
       "\n",
       "    .dataframe thead th {\n",
       "        text-align: right;\n",
       "    }\n",
       "</style>\n",
       "<table border=\"1\" class=\"dataframe\">\n",
       "  <thead>\n",
       "    <tr style=\"text-align: right;\">\n",
       "      <th></th>\n",
       "      <th>C/A</th>\n",
       "      <th>UNIT</th>\n",
       "      <th>SCP</th>\n",
       "      <th>STATION</th>\n",
       "      <th>DATE</th>\n",
       "      <th>ENTRIES</th>\n",
       "    </tr>\n",
       "  </thead>\n",
       "  <tbody>\n",
       "    <tr>\n",
       "      <th>0</th>\n",
       "      <td>A002</td>\n",
       "      <td>R051</td>\n",
       "      <td>02-00-00</td>\n",
       "      <td>59 ST</td>\n",
       "      <td>2019-12-28</td>\n",
       "      <td>7325143</td>\n",
       "    </tr>\n",
       "    <tr>\n",
       "      <th>1</th>\n",
       "      <td>A002</td>\n",
       "      <td>R051</td>\n",
       "      <td>02-00-00</td>\n",
       "      <td>59 ST</td>\n",
       "      <td>2019-12-29</td>\n",
       "      <td>7325774</td>\n",
       "    </tr>\n",
       "    <tr>\n",
       "      <th>2</th>\n",
       "      <td>A002</td>\n",
       "      <td>R051</td>\n",
       "      <td>02-00-00</td>\n",
       "      <td>59 ST</td>\n",
       "      <td>2019-12-30</td>\n",
       "      <td>7326944</td>\n",
       "    </tr>\n",
       "    <tr>\n",
       "      <th>3</th>\n",
       "      <td>A002</td>\n",
       "      <td>R051</td>\n",
       "      <td>02-00-00</td>\n",
       "      <td>59 ST</td>\n",
       "      <td>2019-12-31</td>\n",
       "      <td>7327981</td>\n",
       "    </tr>\n",
       "    <tr>\n",
       "      <th>4</th>\n",
       "      <td>A002</td>\n",
       "      <td>R051</td>\n",
       "      <td>02-00-00</td>\n",
       "      <td>59 ST</td>\n",
       "      <td>2020-01-01</td>\n",
       "      <td>7328499</td>\n",
       "    </tr>\n",
       "    <tr>\n",
       "      <th>5</th>\n",
       "      <td>A002</td>\n",
       "      <td>R051</td>\n",
       "      <td>02-00-00</td>\n",
       "      <td>59 ST</td>\n",
       "      <td>2020-01-02</td>\n",
       "      <td>7329882</td>\n",
       "    </tr>\n",
       "    <tr>\n",
       "      <th>6</th>\n",
       "      <td>A002</td>\n",
       "      <td>R051</td>\n",
       "      <td>02-00-00</td>\n",
       "      <td>59 ST</td>\n",
       "      <td>2020-01-03</td>\n",
       "      <td>7331169</td>\n",
       "    </tr>\n",
       "    <tr>\n",
       "      <th>7</th>\n",
       "      <td>A002</td>\n",
       "      <td>R051</td>\n",
       "      <td>02-00-00</td>\n",
       "      <td>59 ST</td>\n",
       "      <td>2020-01-04</td>\n",
       "      <td>7331951</td>\n",
       "    </tr>\n",
       "    <tr>\n",
       "      <th>8</th>\n",
       "      <td>A002</td>\n",
       "      <td>R051</td>\n",
       "      <td>02-00-00</td>\n",
       "      <td>59 ST</td>\n",
       "      <td>2020-01-05</td>\n",
       "      <td>7332543</td>\n",
       "    </tr>\n",
       "    <tr>\n",
       "      <th>9</th>\n",
       "      <td>A002</td>\n",
       "      <td>R051</td>\n",
       "      <td>02-00-00</td>\n",
       "      <td>59 ST</td>\n",
       "      <td>2020-01-06</td>\n",
       "      <td>7333879</td>\n",
       "    </tr>\n",
       "  </tbody>\n",
       "</table>\n",
       "</div>"
      ],
      "text/plain": [
       "    C/A  UNIT       SCP STATION        DATE  ENTRIES\n",
       "0  A002  R051  02-00-00   59 ST  2019-12-28  7325143\n",
       "1  A002  R051  02-00-00   59 ST  2019-12-29  7325774\n",
       "2  A002  R051  02-00-00   59 ST  2019-12-30  7326944\n",
       "3  A002  R051  02-00-00   59 ST  2019-12-31  7327981\n",
       "4  A002  R051  02-00-00   59 ST  2020-01-01  7328499\n",
       "5  A002  R051  02-00-00   59 ST  2020-01-02  7329882\n",
       "6  A002  R051  02-00-00   59 ST  2020-01-03  7331169\n",
       "7  A002  R051  02-00-00   59 ST  2020-01-04  7331951\n",
       "8  A002  R051  02-00-00   59 ST  2020-01-05  7332543\n",
       "9  A002  R051  02-00-00   59 ST  2020-01-06  7333879"
      ]
     },
     "execution_count": 39,
     "metadata": {},
     "output_type": "execute_result"
    }
   ],
   "source": [
    "turnstiles_daily.head(10)"
   ]
  },
  {
   "cell_type": "code",
   "execution_count": 40,
   "metadata": {},
   "outputs": [
    {
     "name": "stderr",
     "output_type": "stream",
     "text": [
      "<ipython-input-40-3a945374269e>:1: FutureWarning: Indexing with multiple keys (implicitly converted to a tuple of keys) will be deprecated, use a list instead.\n",
      "  turnstiles_daily[[\"PREV_DATE\", \"PREV_ENTRIES\"]] = (turnstiles_daily\n"
     ]
    }
   ],
   "source": [
    "turnstiles_daily[[\"PREV_DATE\", \"PREV_ENTRIES\"]] = (turnstiles_daily\n",
    "                                                       .groupby([\"C/A\", \"UNIT\", \"SCP\", \"STATION\"])[\"DATE\", \"ENTRIES\"]\n",
    "                                                       .apply(lambda grp: grp.shift(1)))"
   ]
  },
  {
   "cell_type": "code",
   "execution_count": 41,
   "metadata": {},
   "outputs": [
    {
     "data": {
      "text/html": [
       "<div>\n",
       "<style scoped>\n",
       "    .dataframe tbody tr th:only-of-type {\n",
       "        vertical-align: middle;\n",
       "    }\n",
       "\n",
       "    .dataframe tbody tr th {\n",
       "        vertical-align: top;\n",
       "    }\n",
       "\n",
       "    .dataframe thead th {\n",
       "        text-align: right;\n",
       "    }\n",
       "</style>\n",
       "<table border=\"1\" class=\"dataframe\">\n",
       "  <thead>\n",
       "    <tr style=\"text-align: right;\">\n",
       "      <th></th>\n",
       "      <th>C/A</th>\n",
       "      <th>UNIT</th>\n",
       "      <th>SCP</th>\n",
       "      <th>STATION</th>\n",
       "      <th>DATE</th>\n",
       "      <th>ENTRIES</th>\n",
       "      <th>PREV_DATE</th>\n",
       "      <th>PREV_ENTRIES</th>\n",
       "    </tr>\n",
       "  </thead>\n",
       "  <tbody>\n",
       "    <tr>\n",
       "      <th>0</th>\n",
       "      <td>A002</td>\n",
       "      <td>R051</td>\n",
       "      <td>02-00-00</td>\n",
       "      <td>59 ST</td>\n",
       "      <td>2019-12-28</td>\n",
       "      <td>7325143</td>\n",
       "      <td>NaN</td>\n",
       "      <td>NaN</td>\n",
       "    </tr>\n",
       "    <tr>\n",
       "      <th>1</th>\n",
       "      <td>A002</td>\n",
       "      <td>R051</td>\n",
       "      <td>02-00-00</td>\n",
       "      <td>59 ST</td>\n",
       "      <td>2019-12-29</td>\n",
       "      <td>7325774</td>\n",
       "      <td>2019-12-28</td>\n",
       "      <td>7325143.0</td>\n",
       "    </tr>\n",
       "    <tr>\n",
       "      <th>2</th>\n",
       "      <td>A002</td>\n",
       "      <td>R051</td>\n",
       "      <td>02-00-00</td>\n",
       "      <td>59 ST</td>\n",
       "      <td>2019-12-30</td>\n",
       "      <td>7326944</td>\n",
       "      <td>2019-12-29</td>\n",
       "      <td>7325774.0</td>\n",
       "    </tr>\n",
       "    <tr>\n",
       "      <th>3</th>\n",
       "      <td>A002</td>\n",
       "      <td>R051</td>\n",
       "      <td>02-00-00</td>\n",
       "      <td>59 ST</td>\n",
       "      <td>2019-12-31</td>\n",
       "      <td>7327981</td>\n",
       "      <td>2019-12-30</td>\n",
       "      <td>7326944.0</td>\n",
       "    </tr>\n",
       "    <tr>\n",
       "      <th>4</th>\n",
       "      <td>A002</td>\n",
       "      <td>R051</td>\n",
       "      <td>02-00-00</td>\n",
       "      <td>59 ST</td>\n",
       "      <td>2020-01-01</td>\n",
       "      <td>7328499</td>\n",
       "      <td>2019-12-31</td>\n",
       "      <td>7327981.0</td>\n",
       "    </tr>\n",
       "  </tbody>\n",
       "</table>\n",
       "</div>"
      ],
      "text/plain": [
       "    C/A  UNIT       SCP STATION        DATE  ENTRIES   PREV_DATE  PREV_ENTRIES\n",
       "0  A002  R051  02-00-00   59 ST  2019-12-28  7325143         NaN           NaN\n",
       "1  A002  R051  02-00-00   59 ST  2019-12-29  7325774  2019-12-28     7325143.0\n",
       "2  A002  R051  02-00-00   59 ST  2019-12-30  7326944  2019-12-29     7325774.0\n",
       "3  A002  R051  02-00-00   59 ST  2019-12-31  7327981  2019-12-30     7326944.0\n",
       "4  A002  R051  02-00-00   59 ST  2020-01-01  7328499  2019-12-31     7327981.0"
      ]
     },
     "execution_count": 41,
     "metadata": {},
     "output_type": "execute_result"
    }
   ],
   "source": [
    "# sanity check\n",
    "\n",
    "turnstiles_daily.head()"
   ]
  },
  {
   "cell_type": "code",
   "execution_count": 42,
   "metadata": {},
   "outputs": [],
   "source": [
    "# Drop the rows for the earliest date in the df\n",
    "\n",
    "turnstiles_daily.dropna(subset=[\"PREV_DATE\"], axis=0, inplace=True)"
   ]
  },
  {
   "cell_type": "code",
   "execution_count": 43,
   "metadata": {},
   "outputs": [
    {
     "data": {
      "text/html": [
       "<div>\n",
       "<style scoped>\n",
       "    .dataframe tbody tr th:only-of-type {\n",
       "        vertical-align: middle;\n",
       "    }\n",
       "\n",
       "    .dataframe tbody tr th {\n",
       "        vertical-align: top;\n",
       "    }\n",
       "\n",
       "    .dataframe thead th {\n",
       "        text-align: right;\n",
       "    }\n",
       "</style>\n",
       "<table border=\"1\" class=\"dataframe\">\n",
       "  <thead>\n",
       "    <tr style=\"text-align: right;\">\n",
       "      <th></th>\n",
       "      <th>C/A</th>\n",
       "      <th>UNIT</th>\n",
       "      <th>SCP</th>\n",
       "      <th>STATION</th>\n",
       "      <th>DATE</th>\n",
       "      <th>ENTRIES</th>\n",
       "      <th>PREV_DATE</th>\n",
       "      <th>PREV_ENTRIES</th>\n",
       "    </tr>\n",
       "  </thead>\n",
       "  <tbody>\n",
       "    <tr>\n",
       "      <th>1</th>\n",
       "      <td>A002</td>\n",
       "      <td>R051</td>\n",
       "      <td>02-00-00</td>\n",
       "      <td>59 ST</td>\n",
       "      <td>2019-12-29</td>\n",
       "      <td>7325774</td>\n",
       "      <td>2019-12-28</td>\n",
       "      <td>7325143.0</td>\n",
       "    </tr>\n",
       "    <tr>\n",
       "      <th>2</th>\n",
       "      <td>A002</td>\n",
       "      <td>R051</td>\n",
       "      <td>02-00-00</td>\n",
       "      <td>59 ST</td>\n",
       "      <td>2019-12-30</td>\n",
       "      <td>7326944</td>\n",
       "      <td>2019-12-29</td>\n",
       "      <td>7325774.0</td>\n",
       "    </tr>\n",
       "    <tr>\n",
       "      <th>3</th>\n",
       "      <td>A002</td>\n",
       "      <td>R051</td>\n",
       "      <td>02-00-00</td>\n",
       "      <td>59 ST</td>\n",
       "      <td>2019-12-31</td>\n",
       "      <td>7327981</td>\n",
       "      <td>2019-12-30</td>\n",
       "      <td>7326944.0</td>\n",
       "    </tr>\n",
       "    <tr>\n",
       "      <th>4</th>\n",
       "      <td>A002</td>\n",
       "      <td>R051</td>\n",
       "      <td>02-00-00</td>\n",
       "      <td>59 ST</td>\n",
       "      <td>2020-01-01</td>\n",
       "      <td>7328499</td>\n",
       "      <td>2019-12-31</td>\n",
       "      <td>7327981.0</td>\n",
       "    </tr>\n",
       "    <tr>\n",
       "      <th>5</th>\n",
       "      <td>A002</td>\n",
       "      <td>R051</td>\n",
       "      <td>02-00-00</td>\n",
       "      <td>59 ST</td>\n",
       "      <td>2020-01-02</td>\n",
       "      <td>7329882</td>\n",
       "      <td>2020-01-01</td>\n",
       "      <td>7328499.0</td>\n",
       "    </tr>\n",
       "  </tbody>\n",
       "</table>\n",
       "</div>"
      ],
      "text/plain": [
       "    C/A  UNIT       SCP STATION        DATE  ENTRIES   PREV_DATE  PREV_ENTRIES\n",
       "1  A002  R051  02-00-00   59 ST  2019-12-29  7325774  2019-12-28     7325143.0\n",
       "2  A002  R051  02-00-00   59 ST  2019-12-30  7326944  2019-12-29     7325774.0\n",
       "3  A002  R051  02-00-00   59 ST  2019-12-31  7327981  2019-12-30     7326944.0\n",
       "4  A002  R051  02-00-00   59 ST  2020-01-01  7328499  2019-12-31     7327981.0\n",
       "5  A002  R051  02-00-00   59 ST  2020-01-02  7329882  2020-01-01     7328499.0"
      ]
     },
     "execution_count": 43,
     "metadata": {},
     "output_type": "execute_result"
    }
   ],
   "source": [
    "turnstiles_daily.head()"
   ]
  },
  {
   "cell_type": "markdown",
   "metadata": {},
   "source": [
    "## Handling negative values"
   ]
  },
  {
   "cell_type": "code",
   "execution_count": 44,
   "metadata": {},
   "outputs": [
    {
     "data": {
      "text/html": [
       "<div>\n",
       "<style scoped>\n",
       "    .dataframe tbody tr th:only-of-type {\n",
       "        vertical-align: middle;\n",
       "    }\n",
       "\n",
       "    .dataframe tbody tr th {\n",
       "        vertical-align: top;\n",
       "    }\n",
       "\n",
       "    .dataframe thead th {\n",
       "        text-align: right;\n",
       "    }\n",
       "</style>\n",
       "<table border=\"1\" class=\"dataframe\">\n",
       "  <thead>\n",
       "    <tr style=\"text-align: right;\">\n",
       "      <th></th>\n",
       "      <th>C/A</th>\n",
       "      <th>UNIT</th>\n",
       "      <th>SCP</th>\n",
       "      <th>STATION</th>\n",
       "      <th>DATE</th>\n",
       "      <th>ENTRIES</th>\n",
       "      <th>PREV_DATE</th>\n",
       "      <th>PREV_ENTRIES</th>\n",
       "    </tr>\n",
       "  </thead>\n",
       "  <tbody>\n",
       "    <tr>\n",
       "      <th>4040</th>\n",
       "      <td>A002</td>\n",
       "      <td>R051</td>\n",
       "      <td>02-06-00</td>\n",
       "      <td>59 ST</td>\n",
       "      <td>2020-02-13</td>\n",
       "      <td>889</td>\n",
       "      <td>2020-02-12</td>\n",
       "      <td>82625.0</td>\n",
       "    </tr>\n",
       "    <tr>\n",
       "      <th>4127</th>\n",
       "      <td>A002</td>\n",
       "      <td>R051</td>\n",
       "      <td>02-06-00</td>\n",
       "      <td>59 ST</td>\n",
       "      <td>2020-09-12</td>\n",
       "      <td>27005</td>\n",
       "      <td>2020-05-09</td>\n",
       "      <td>44341.0</td>\n",
       "    </tr>\n",
       "    <tr>\n",
       "      <th>5795</th>\n",
       "      <td>A006</td>\n",
       "      <td>R079</td>\n",
       "      <td>00-00-04</td>\n",
       "      <td>5 AV/59 ST</td>\n",
       "      <td>2020-04-13</td>\n",
       "      <td>22</td>\n",
       "      <td>2020-04-12</td>\n",
       "      <td>7896791.0</td>\n",
       "    </tr>\n",
       "    <tr>\n",
       "      <th>6125</th>\n",
       "      <td>A006</td>\n",
       "      <td>R079</td>\n",
       "      <td>00-03-00</td>\n",
       "      <td>5 AV/59 ST</td>\n",
       "      <td>2020-03-10</td>\n",
       "      <td>60</td>\n",
       "      <td>2020-03-09</td>\n",
       "      <td>9437429.0</td>\n",
       "    </tr>\n",
       "    <tr>\n",
       "      <th>9065</th>\n",
       "      <td>A007</td>\n",
       "      <td>R079</td>\n",
       "      <td>01-06-03</td>\n",
       "      <td>5 AV/59 ST</td>\n",
       "      <td>2020-04-07</td>\n",
       "      <td>4</td>\n",
       "      <td>2020-04-06</td>\n",
       "      <td>7832194.0</td>\n",
       "    </tr>\n",
       "  </tbody>\n",
       "</table>\n",
       "</div>"
      ],
      "text/plain": [
       "       C/A  UNIT       SCP     STATION        DATE  ENTRIES   PREV_DATE  \\\n",
       "4040  A002  R051  02-06-00       59 ST  2020-02-13      889  2020-02-12   \n",
       "4127  A002  R051  02-06-00       59 ST  2020-09-12    27005  2020-05-09   \n",
       "5795  A006  R079  00-00-04  5 AV/59 ST  2020-04-13       22  2020-04-12   \n",
       "6125  A006  R079  00-03-00  5 AV/59 ST  2020-03-10       60  2020-03-09   \n",
       "9065  A007  R079  01-06-03  5 AV/59 ST  2020-04-07        4  2020-04-06   \n",
       "\n",
       "      PREV_ENTRIES  \n",
       "4040       82625.0  \n",
       "4127       44341.0  \n",
       "5795     7896791.0  \n",
       "6125     9437429.0  \n",
       "9065     7832194.0  "
      ]
     },
     "execution_count": 44,
     "metadata": {},
     "output_type": "execute_result"
    }
   ],
   "source": [
    "# Checking where previous entries are greater than current\n",
    "\n",
    "turnstiles_daily[turnstiles_daily[\"ENTRIES\"] < turnstiles_daily[\"PREV_ENTRIES\"]].head()"
   ]
  },
  {
   "cell_type": "code",
   "execution_count": 45,
   "metadata": {},
   "outputs": [
    {
     "data": {
      "text/plain": [
       "C/A    UNIT  SCP       STATION        \n",
       "A002   R051  02-06-00  59 ST                2\n",
       "A006   R079  00-00-04  5 AV/59 ST           1\n",
       "             00-03-00  5 AV/59 ST           1\n",
       "A007   R079  01-06-03  5 AV/59 ST           1\n",
       "A011   R080  01-03-00  57 ST-7 AV         363\n",
       "                                         ... \n",
       "R728   R226  00-00-00  GUN HILL RD          1\n",
       "             00-00-01  GUN HILL RD          1\n",
       "R729   R292  00-00-01  BAYCHESTER AV        1\n",
       "R730   R431  00-00-04  EASTCHSTER/DYRE    361\n",
       "TRAM1  R468  00-00-01  RIT-MANHATTAN        1\n",
       "Length: 649, dtype: int64"
      ]
     },
     "execution_count": 45,
     "metadata": {},
     "output_type": "execute_result"
    }
   ],
   "source": [
    "# Let's see how many stations have this problem\n",
    "\n",
    "(turnstiles_daily[turnstiles_daily[\"ENTRIES\"] < turnstiles_daily[\"PREV_ENTRIES\"]]\n",
    "    .groupby([\"C/A\", \"UNIT\", \"SCP\", \"STATION\"])\n",
    "    .size())"
   ]
  },
  {
   "cell_type": "code",
   "execution_count": 46,
   "metadata": {},
   "outputs": [
    {
     "name": "stdout",
     "output_type": "stream",
     "text": [
      "22 7896791.0\n",
      "60 9437429.0\n",
      "4 7832194.0\n",
      "9 1562921334.0\n",
      "289 3055256.0\n",
      "348 1237351900.0\n",
      "459077 85175465.0\n",
      "123 1630877.0\n",
      "20 2642748.0\n",
      "848 1180101.0\n",
      "305 7251354.0\n",
      "658 1203534.0\n",
      "26 3963030.0\n",
      "6 6777428.0\n",
      "1066 1091335.0\n",
      "408 4676418.0\n",
      "12 1309708904.0\n",
      "294 6612092.0\n",
      "107 8235039.0\n",
      "210 2427404.0\n",
      "379 1208236.0\n",
      "93 1178971.0\n",
      "88 1197880.0\n",
      "262182 6657224.0\n",
      "5309717 100663522.0\n",
      "2031759 368226.0\n",
      "170526823 1802952.0\n",
      "248 1264348.0\n",
      "36 5675074.0\n",
      "25 8800439.0\n",
      "223936549 167098.0\n",
      "1294 6496220.0\n",
      "1560308511 6140951.0\n",
      "393220 118199797.0\n",
      "455 2822958.0\n",
      "524338 67889725.0\n",
      "372 4971113.0\n",
      "86 8360145.0\n",
      "475957878 7480530.0\n",
      "544 475738131.0\n",
      "2920 3117927.0\n",
      "618862 2634131.0\n",
      "230 955727806.0\n",
      "17126295 19676957.0\n",
      "5177693 17134751.0\n",
      "15065838 17126282.0\n",
      "25525735 15065804.0\n",
      "12309516 25525671.0\n",
      "1730 1455549.0\n",
      "233 2297325.0\n",
      "219 1875169.0\n",
      "631046281 246545.0\n",
      "112 631050303.0\n",
      "606 8096346.0\n",
      "1136721145 6439404.0\n",
      "212 3145253.0\n",
      "72 1100765.0\n",
      "590069 1906617.0\n",
      "91 4038371.0\n",
      "172229024 8843948.0\n",
      "97 3953593.0\n",
      "20 2635368.0\n",
      "95 3571824.0\n",
      "157 3563454.0\n",
      "144 3086960.0\n",
      "186 12153427.0\n",
      "2191 6132998.0\n",
      "279 8291685.0\n",
      "63 1074082.0\n",
      "6 10731820.0\n",
      "33 15171263.0\n",
      "77 15185542.0\n",
      "49 8294808.0\n",
      "33567747 143338.0\n",
      "1610558722 10549231.0\n",
      "120 3319940.0\n",
      "100 2493895.0\n",
      "61 8752396.0\n",
      "15 2090862.0\n",
      "280 7355319.0\n",
      "351 394320240.0\n",
      "18 168627933.0\n",
      "507 2379734.0\n",
      "51 4733633.0\n",
      "7 1386134.0\n",
      "7 2344491.0\n",
      "83886080 655360.0\n",
      "156 8876671.0\n",
      "10 11957933.0\n",
      "2935583 81029.0\n",
      "321184286 5646398.0\n",
      "307624182 321184285.0\n",
      "673 4895014.0\n",
      "32 1317615.0\n",
      "94 3982864.0\n",
      "1160 2419490.0\n",
      "9133385 792048.0\n",
      "524299 117443285.0\n",
      "37 3334731.0\n",
      "4785471 11470775.0\n",
      "372 4838397.0\n",
      "379 2018060.0\n",
      "82 3069469.0\n",
      "270532819 536177.0\n",
      "899 14003432.0\n",
      "1062 2302008.0\n",
      "95 2407240.0\n",
      "395233 2064683.0\n",
      "2169 6567669.0\n",
      "2010 22737699.0\n",
      "746 342505202.0\n",
      "455 3854804.0\n",
      "524538 118146193.0\n",
      "3 69161601.0\n",
      "524311 102677421.0\n",
      "1087 9501355.0\n",
      "1077 8438239.0\n",
      "283 5072269.0\n",
      "56 1937131.0\n",
      "88 1200404.0\n",
      "1357 1510913.0\n",
      "3834145 983905.0\n",
      "160 3834145.0\n",
      "1776 2313253.0\n",
      "1245970758 1776.0\n",
      "166 1246039062.0\n",
      "655360 3529766.0\n",
      "56 7703795.0\n",
      "46 2393135.0\n",
      "8368358 1822637.0\n",
      "577296 2819416.0\n",
      "262145 50332023.0\n",
      "54 9046801.0\n",
      "141 1516920.0\n",
      "64 5558044.0\n",
      "589865448 6311679.0\n",
      "6313226 589865448.0\n",
      "4456968 49195.0\n",
      "50260 4456968.0\n",
      "3302818 519122.0\n",
      "520208 3302818.0\n",
      "134277383 525023.0\n",
      "458765 134277578.0\n",
      "2555909 514058.0\n",
      "582 3243165.0\n",
      "278 5239290.0\n",
      "318 3251529.0\n",
      "81 644689531.0\n",
      "174 6817281.0\n",
      "383 6871938.0\n",
      "1627393907 6366854.0\n",
      "369101672 1973089.0\n",
      "203 1408008.0\n",
      "459319 1518041.0\n",
      "10 2197669.0\n",
      "154 235111205.0\n",
      "589962 3166984.0\n",
      "165 2351204.0\n",
      "23 134570115.0\n",
      "12 1098377.0\n",
      "13 9133185.0\n",
      "69 1021601.0\n",
      "1021605 835.0\n",
      "839 1483975.0\n",
      "5 2706972.0\n",
      "93 1325337.0\n",
      "147 12840762.0\n",
      "210 12003425.0\n",
      "524337 2817588.0\n",
      "704 2788291.0\n",
      "35 3732118.0\n",
      "0 4982181.0\n",
      "554 7270887.0\n",
      "890 10054500.0\n",
      "78 1242136770.0\n",
      "2614846 7318132.0\n",
      "7318377 2614511.0\n",
      "127 7326231.0\n",
      "500 3115313.0\n",
      "61 3080422.0\n",
      "16 6350317.0\n",
      "56 1943620.0\n",
      "172 5912692.0\n",
      "955056270 4994242.0\n",
      "262248 955056882.0\n",
      "524450 6946638.0\n",
      "1055 4845991.0\n",
      "1384 21914748.0\n",
      "1224795285 6215.0\n",
      "57 1224795434.0\n",
      "30 10444603.0\n",
      "917504 67108864.0\n",
      "1761 9753069.0\n",
      "872 12445406.0\n",
      "2108 16347682.0\n",
      "724 6567565.0\n",
      "1254418451 28554762.0\n",
      "2981 1254422418.0\n",
      "2200 3323145.0\n",
      "60 7149183.0\n",
      "721366 6946581.0\n",
      "138 5178331.0\n",
      "245 2787060.0\n",
      "2818161 11316778.0\n",
      "30 1634879.0\n",
      "458752 9259448.0\n",
      "524292 2226894.0\n",
      "218 2867603.0\n",
      "776 16405684.0\n",
      "230 5324632.0\n",
      "414777508 349287.0\n",
      "2043281611 4685084.0\n",
      "983451 4659872.0\n",
      "95 1143524.0\n",
      "197 5125463.0\n",
      "1900832 6048945.0\n",
      "762 5951485.0\n",
      "31 4058137.0\n",
      "187 7855959.0\n",
      "517 1786225.0\n",
      "499 42927148.0\n",
      "7 5433033.0\n",
      "5436427 7.0\n",
      "625 3795641.0\n",
      "1397029 3004522.0\n",
      "54 4112456.0\n",
      "48 5583003.0\n",
      "28 6190595.0\n",
      "560 2384228.0\n",
      "0 1955591.0\n",
      "38 235366971.0\n",
      "11 3366625.0\n",
      "870767 2522090.0\n",
      "92 1311697.0\n",
      "315 6289129.0\n",
      "263 2087362.0\n",
      "221 10442448.0\n",
      "263018 6190793.0\n",
      "1154271193 13402588.0\n",
      "524329 120318011.0\n",
      "195 9679898.0\n",
      "212 6658385.0\n",
      "60 5373982.0\n",
      "978 1365405.0\n",
      "808 1736661.0\n",
      "18 1437665.0\n",
      "909 3583402.0\n",
      "569321681 16784233.0\n",
      "772 7553900.0\n",
      "346 1119575.0\n",
      "743 1775577.0\n",
      "126 2836277.0\n",
      "763 7066088.0\n",
      "103 3299852.0\n",
      "262146 67110893.0\n",
      "545 2888736.0\n",
      "5 13122450.0\n",
      "21 2166896.0\n",
      "139 655431311.0\n",
      "9 1031327.0\n",
      "868 11165049.0\n",
      "1633 9277595.0\n",
      "10316662 2619143.0\n",
      "654375162 10318322.0\n",
      "10449128 302132.0\n",
      "67156129 10450185.0\n",
      "4637060 1071258.0\n",
      "1071773 4638441.0\n",
      "2619212 10315953.0\n",
      "10318413 2619345.0\n",
      "302246 10448716.0\n",
      "10450249 302452.0\n",
      "1071394 4636475.0\n",
      "4638540 1071671.0\n",
      "277 2762132.0\n",
      "524292 167811461.0\n",
      "524852 2645417.0\n",
      "1137 11047721.0\n",
      "10 3109024.0\n",
      "308 5182656.0\n",
      "177 10323516.0\n",
      "99 1054866231.0\n",
      "386 6829758.0\n",
      "179 1063040.0\n",
      "10 6428987.0\n",
      "4 7751347.0\n",
      "6 6362738.0\n",
      "160 8634390.0\n",
      "5 16336060.0\n",
      "144 21377118.0\n",
      "550 16283553.0\n",
      "90 3463880.0\n",
      "471 1824508.0\n",
      "27 2549195.0\n",
      "592403 4715175.0\n",
      "196 4008525.0\n",
      "32 6478782.0\n",
      "285 3953135.0\n",
      "932 164368300.0\n",
      "8 6813538.0\n",
      "9 1004105.0\n",
      "311 352594526.0\n",
      "65841 2356117.0\n",
      "1308989157 89033561.0\n",
      "53101652 704878426.0\n",
      "1895422010 110089021.0\n",
      "248 1895327592.0\n",
      "131135 118174528.0\n",
      "67170406 325748.0\n",
      "8 1119006.0\n",
      "1119053 8.0\n",
      "451 10584420.0\n",
      "555290781 421603159.0\n",
      "240 1614792.0\n",
      "8 13681629.0\n",
      "720897 117445467.0\n",
      "524397 135382561.0\n",
      "671113313 2663869.0\n",
      "50 5697218.0\n",
      "180 2944693.0\n",
      "100695199 430716.0\n",
      "637537564 2493709.0\n",
      "620759348 2471176.0\n",
      "131 3201434.0\n",
      "51627564 318991258.0\n",
      "10 1349677.0\n",
      "1006685425 3932619.0\n",
      "11 1536055.0\n",
      "46 4625588.0\n",
      "54 1776715.0\n",
      "347 5359395.0\n",
      "1245245 40728.0\n",
      "38 2447878.0\n",
      "117 3288343.0\n",
      "245807 2525875.0\n",
      "2526452 245807.0\n",
      "1774276 4513885.0\n",
      "4514240 1774276.0\n",
      "3237530 931236.0\n",
      "931712 3237530.0\n",
      "11004192 114915.0\n",
      "115671 11004192.0\n",
      "12337680 161816.0\n",
      "162927 12337680.0\n",
      "2247979 348793.0\n",
      "351262 2247979.0\n",
      "87 6666023.0\n",
      "568 13908931.0\n",
      "1704221 17387207.0\n",
      "13640277 8675910.0\n",
      "8676918 13640277.0\n",
      "53 3083086.0\n",
      "105 1543713.0\n",
      "52 5711054.0\n",
      "1573 14787119.0\n",
      "823394386 34975.0\n",
      "655577 10696562.0\n",
      "457 15209439.0\n",
      "434 2515784.0\n",
      "102 15484086.0\n",
      "280 2867953.0\n",
      "20917 2555393.0\n",
      "7705071 24440.0\n",
      "322 5112443.0\n",
      "422 5596546.0\n",
      "20 4362546.0\n",
      "128 1589490.0\n",
      "6118016 39944.0\n",
      "23 6119125.0\n",
      "23 5309695.0\n",
      "22 1311420.0\n",
      "24 2562789.0\n",
      "3570 1327888.0\n",
      "1328230 2569869.0\n",
      "112 1210137.0\n",
      "7915394 116876.0\n",
      "307 6163310.0\n",
      "1809310 13833008.0\n",
      "13833233 1808874.0\n",
      "83 1735463.0\n",
      "199 7245766.0\n",
      "814 1705161.0\n",
      "120 1506660963.0\n",
      "38 1185237.0\n",
      "22 5621555.0\n",
      "24 3242985.0\n",
      "324 7740099.0\n"
     ]
    }
   ],
   "source": [
    "# Create a function to handles instances where counter is descending\n",
    "\n",
    "def get_daily_counts(row, max_counter):\n",
    "    counter = row[\"ENTRIES\"] - row[\"PREV_ENTRIES\"]\n",
    "    if counter < 0:\n",
    "        # Maybe counter is reversed?\n",
    "        counter = -counter\n",
    "    if counter > max_counter:\n",
    "        # Maybe counter was reset to 0? \n",
    "        print(row[\"ENTRIES\"], row[\"PREV_ENTRIES\"])\n",
    "        counter = min(row[\"ENTRIES\"], row[\"PREV_ENTRIES\"])\n",
    "    if counter > max_counter:\n",
    "        # Check it again to make sure we're not still giving a counter that's too big\n",
    "        return 0\n",
    "    return counter\n",
    "\n",
    "# If counter is > 1Million, then the counter might have been reset.  \n",
    "# Just set it to zero as different counters have different cycle limits\n",
    "# It'd probably be a good idea to use a number even significantly smaller than 1 million as the limit!\n",
    "turnstiles_daily[\"DAILY_ENTRIES\"] = turnstiles_daily.apply(get_daily_counts, axis=1, max_counter=1000000)"
   ]
  },
  {
   "cell_type": "code",
   "execution_count": 47,
   "metadata": {},
   "outputs": [
    {
     "data": {
      "text/html": [
       "<div>\n",
       "<style scoped>\n",
       "    .dataframe tbody tr th:only-of-type {\n",
       "        vertical-align: middle;\n",
       "    }\n",
       "\n",
       "    .dataframe tbody tr th {\n",
       "        vertical-align: top;\n",
       "    }\n",
       "\n",
       "    .dataframe thead th {\n",
       "        text-align: right;\n",
       "    }\n",
       "</style>\n",
       "<table border=\"1\" class=\"dataframe\">\n",
       "  <thead>\n",
       "    <tr style=\"text-align: right;\">\n",
       "      <th></th>\n",
       "      <th>C/A</th>\n",
       "      <th>UNIT</th>\n",
       "      <th>SCP</th>\n",
       "      <th>STATION</th>\n",
       "      <th>DATE</th>\n",
       "      <th>ENTRIES</th>\n",
       "      <th>PREV_DATE</th>\n",
       "      <th>PREV_ENTRIES</th>\n",
       "      <th>DAILY_ENTRIES</th>\n",
       "    </tr>\n",
       "  </thead>\n",
       "  <tbody>\n",
       "    <tr>\n",
       "      <th>1</th>\n",
       "      <td>A002</td>\n",
       "      <td>R051</td>\n",
       "      <td>02-00-00</td>\n",
       "      <td>59 ST</td>\n",
       "      <td>2019-12-29</td>\n",
       "      <td>7325774</td>\n",
       "      <td>2019-12-28</td>\n",
       "      <td>7325143.0</td>\n",
       "      <td>631.0</td>\n",
       "    </tr>\n",
       "    <tr>\n",
       "      <th>2</th>\n",
       "      <td>A002</td>\n",
       "      <td>R051</td>\n",
       "      <td>02-00-00</td>\n",
       "      <td>59 ST</td>\n",
       "      <td>2019-12-30</td>\n",
       "      <td>7326944</td>\n",
       "      <td>2019-12-29</td>\n",
       "      <td>7325774.0</td>\n",
       "      <td>1170.0</td>\n",
       "    </tr>\n",
       "    <tr>\n",
       "      <th>3</th>\n",
       "      <td>A002</td>\n",
       "      <td>R051</td>\n",
       "      <td>02-00-00</td>\n",
       "      <td>59 ST</td>\n",
       "      <td>2019-12-31</td>\n",
       "      <td>7327981</td>\n",
       "      <td>2019-12-30</td>\n",
       "      <td>7326944.0</td>\n",
       "      <td>1037.0</td>\n",
       "    </tr>\n",
       "    <tr>\n",
       "      <th>4</th>\n",
       "      <td>A002</td>\n",
       "      <td>R051</td>\n",
       "      <td>02-00-00</td>\n",
       "      <td>59 ST</td>\n",
       "      <td>2020-01-01</td>\n",
       "      <td>7328499</td>\n",
       "      <td>2019-12-31</td>\n",
       "      <td>7327981.0</td>\n",
       "      <td>518.0</td>\n",
       "    </tr>\n",
       "    <tr>\n",
       "      <th>5</th>\n",
       "      <td>A002</td>\n",
       "      <td>R051</td>\n",
       "      <td>02-00-00</td>\n",
       "      <td>59 ST</td>\n",
       "      <td>2020-01-02</td>\n",
       "      <td>7329882</td>\n",
       "      <td>2020-01-01</td>\n",
       "      <td>7328499.0</td>\n",
       "      <td>1383.0</td>\n",
       "    </tr>\n",
       "  </tbody>\n",
       "</table>\n",
       "</div>"
      ],
      "text/plain": [
       "    C/A  UNIT       SCP STATION        DATE  ENTRIES   PREV_DATE  \\\n",
       "1  A002  R051  02-00-00   59 ST  2019-12-29  7325774  2019-12-28   \n",
       "2  A002  R051  02-00-00   59 ST  2019-12-30  7326944  2019-12-29   \n",
       "3  A002  R051  02-00-00   59 ST  2019-12-31  7327981  2019-12-30   \n",
       "4  A002  R051  02-00-00   59 ST  2020-01-01  7328499  2019-12-31   \n",
       "5  A002  R051  02-00-00   59 ST  2020-01-02  7329882  2020-01-01   \n",
       "\n",
       "   PREV_ENTRIES  DAILY_ENTRIES  \n",
       "1     7325143.0          631.0  \n",
       "2     7325774.0         1170.0  \n",
       "3     7326944.0         1037.0  \n",
       "4     7327981.0          518.0  \n",
       "5     7328499.0         1383.0  "
      ]
     },
     "execution_count": 47,
     "metadata": {},
     "output_type": "execute_result"
    }
   ],
   "source": [
    "turnstiles_daily.head()"
   ]
  },
  {
   "cell_type": "markdown",
   "metadata": {},
   "source": [
    "# Merging Weather Dataset"
   ]
  },
  {
   "cell_type": "code",
   "execution_count": 48,
   "metadata": {},
   "outputs": [
    {
     "data": {
      "text/plain": [
       "C/A                      object\n",
       "UNIT                     object\n",
       "SCP                      object\n",
       "STATION                  object\n",
       "DATE             datetime64[ns]\n",
       "ENTRIES                   int64\n",
       "PREV_DATE                object\n",
       "PREV_ENTRIES            float64\n",
       "DAILY_ENTRIES           float64\n",
       "dtype: object"
      ]
     },
     "execution_count": 48,
     "metadata": {},
     "output_type": "execute_result"
    }
   ],
   "source": [
    "# Converting turnstile daily \"date\" variable to be the same type as in the mta data \n",
    "turnstiles_daily['DATE'] = pd.to_datetime(turnstiles_daily['DATE'])\n",
    "turnstiles_daily.dtypes"
   ]
  },
  {
   "cell_type": "code",
   "execution_count": 49,
   "metadata": {},
   "outputs": [],
   "source": [
    "turnstiles_daily_weather = pd.merge(left = turnstiles_daily, right = df_weather, left_on = 'DATE', right_on = 'date')"
   ]
  },
  {
   "cell_type": "markdown",
   "metadata": {},
   "source": [
    "# Analysis (Excludes Weather)"
   ]
  },
  {
   "cell_type": "code",
   "execution_count": 50,
   "metadata": {},
   "outputs": [],
   "source": [
    "# Searching for outliers"
   ]
  },
  {
   "cell_type": "code",
   "execution_count": 51,
   "metadata": {},
   "outputs": [
    {
     "name": "stderr",
     "output_type": "stream",
     "text": [
      "C:\\Users\\Andrew\\anaconda3\\lib\\site-packages\\seaborn\\distributions.py:2551: FutureWarning: `distplot` is a deprecated function and will be removed in a future version. Please adapt your code to use either `displot` (a figure-level function with similar flexibility) or `histplot` (an axes-level function for histograms).\n",
      "  warnings.warn(msg, FutureWarning)\n"
     ]
    },
    {
     "data": {
      "text/plain": [
       "<AxesSubplot:xlabel='DAILY_ENTRIES', ylabel='Density'>"
      ]
     },
     "execution_count": 51,
     "metadata": {},
     "output_type": "execute_result"
    },
    {
     "data": {
      "image/png": "[encoded data removed]",
      "text/plain": [
       "<Figure size 432x288 with 1 Axes>"
      ]
     },
     "metadata": {
      "needs_background": "light"
     },
     "output_type": "display_data"
    }
   ],
   "source": [
    "sns.distplot(turnstiles_daily['DAILY_ENTRIES']\n",
    "             [turnstiles_daily['DAILY_ENTRIES'] < 10000])"
   ]
  },
  {
   "cell_type": "code",
   "execution_count": 52,
   "metadata": {},
   "outputs": [],
   "source": [
    "# Given the limited number of entries above 2000 and those with less than 0 still we delete all below that number"
   ]
  },
  {
   "cell_type": "code",
   "execution_count": 53,
   "metadata": {},
   "outputs": [],
   "source": [
    "turnstiles_daily.drop(turnstiles_daily[turnstiles_daily['DAILY_ENTRIES'] > 2000].index, inplace = True) "
   ]
  },
  {
   "cell_type": "code",
   "execution_count": 54,
   "metadata": {},
   "outputs": [
    {
     "data": {
      "text/html": [
       "<div>\n",
       "<style scoped>\n",
       "    .dataframe tbody tr th:only-of-type {\n",
       "        vertical-align: middle;\n",
       "    }\n",
       "\n",
       "    .dataframe tbody tr th {\n",
       "        vertical-align: top;\n",
       "    }\n",
       "\n",
       "    .dataframe thead th {\n",
       "        text-align: right;\n",
       "    }\n",
       "</style>\n",
       "<table border=\"1\" class=\"dataframe\">\n",
       "  <thead>\n",
       "    <tr style=\"text-align: right;\">\n",
       "      <th></th>\n",
       "      <th>C/A</th>\n",
       "      <th>UNIT</th>\n",
       "      <th>SCP</th>\n",
       "      <th>STATION</th>\n",
       "      <th>DATE</th>\n",
       "      <th>ENTRIES</th>\n",
       "      <th>PREV_DATE</th>\n",
       "      <th>PREV_ENTRIES</th>\n",
       "      <th>DAILY_ENTRIES</th>\n",
       "    </tr>\n",
       "  </thead>\n",
       "  <tbody>\n",
       "    <tr>\n",
       "      <th>1</th>\n",
       "      <td>A002</td>\n",
       "      <td>R051</td>\n",
       "      <td>02-00-00</td>\n",
       "      <td>59 ST</td>\n",
       "      <td>2019-12-29</td>\n",
       "      <td>7325774</td>\n",
       "      <td>2019-12-28</td>\n",
       "      <td>7325143.0</td>\n",
       "      <td>631.0</td>\n",
       "    </tr>\n",
       "    <tr>\n",
       "      <th>2</th>\n",
       "      <td>A002</td>\n",
       "      <td>R051</td>\n",
       "      <td>02-00-00</td>\n",
       "      <td>59 ST</td>\n",
       "      <td>2019-12-30</td>\n",
       "      <td>7326944</td>\n",
       "      <td>2019-12-29</td>\n",
       "      <td>7325774.0</td>\n",
       "      <td>1170.0</td>\n",
       "    </tr>\n",
       "    <tr>\n",
       "      <th>3</th>\n",
       "      <td>A002</td>\n",
       "      <td>R051</td>\n",
       "      <td>02-00-00</td>\n",
       "      <td>59 ST</td>\n",
       "      <td>2019-12-31</td>\n",
       "      <td>7327981</td>\n",
       "      <td>2019-12-30</td>\n",
       "      <td>7326944.0</td>\n",
       "      <td>1037.0</td>\n",
       "    </tr>\n",
       "    <tr>\n",
       "      <th>4</th>\n",
       "      <td>A002</td>\n",
       "      <td>R051</td>\n",
       "      <td>02-00-00</td>\n",
       "      <td>59 ST</td>\n",
       "      <td>2020-01-01</td>\n",
       "      <td>7328499</td>\n",
       "      <td>2019-12-31</td>\n",
       "      <td>7327981.0</td>\n",
       "      <td>518.0</td>\n",
       "    </tr>\n",
       "    <tr>\n",
       "      <th>5</th>\n",
       "      <td>A002</td>\n",
       "      <td>R051</td>\n",
       "      <td>02-00-00</td>\n",
       "      <td>59 ST</td>\n",
       "      <td>2020-01-02</td>\n",
       "      <td>7329882</td>\n",
       "      <td>2020-01-01</td>\n",
       "      <td>7328499.0</td>\n",
       "      <td>1383.0</td>\n",
       "    </tr>\n",
       "    <tr>\n",
       "      <th>6</th>\n",
       "      <td>A002</td>\n",
       "      <td>R051</td>\n",
       "      <td>02-00-00</td>\n",
       "      <td>59 ST</td>\n",
       "      <td>2020-01-03</td>\n",
       "      <td>7331169</td>\n",
       "      <td>2020-01-02</td>\n",
       "      <td>7329882.0</td>\n",
       "      <td>1287.0</td>\n",
       "    </tr>\n",
       "    <tr>\n",
       "      <th>7</th>\n",
       "      <td>A002</td>\n",
       "      <td>R051</td>\n",
       "      <td>02-00-00</td>\n",
       "      <td>59 ST</td>\n",
       "      <td>2020-01-04</td>\n",
       "      <td>7331951</td>\n",
       "      <td>2020-01-03</td>\n",
       "      <td>7331169.0</td>\n",
       "      <td>782.0</td>\n",
       "    </tr>\n",
       "    <tr>\n",
       "      <th>8</th>\n",
       "      <td>A002</td>\n",
       "      <td>R051</td>\n",
       "      <td>02-00-00</td>\n",
       "      <td>59 ST</td>\n",
       "      <td>2020-01-05</td>\n",
       "      <td>7332543</td>\n",
       "      <td>2020-01-04</td>\n",
       "      <td>7331951.0</td>\n",
       "      <td>592.0</td>\n",
       "    </tr>\n",
       "    <tr>\n",
       "      <th>9</th>\n",
       "      <td>A002</td>\n",
       "      <td>R051</td>\n",
       "      <td>02-00-00</td>\n",
       "      <td>59 ST</td>\n",
       "      <td>2020-01-06</td>\n",
       "      <td>7333879</td>\n",
       "      <td>2020-01-05</td>\n",
       "      <td>7332543.0</td>\n",
       "      <td>1336.0</td>\n",
       "    </tr>\n",
       "    <tr>\n",
       "      <th>10</th>\n",
       "      <td>A002</td>\n",
       "      <td>R051</td>\n",
       "      <td>02-00-00</td>\n",
       "      <td>59 ST</td>\n",
       "      <td>2020-01-07</td>\n",
       "      <td>7335258</td>\n",
       "      <td>2020-01-06</td>\n",
       "      <td>7333879.0</td>\n",
       "      <td>1379.0</td>\n",
       "    </tr>\n",
       "  </tbody>\n",
       "</table>\n",
       "</div>"
      ],
      "text/plain": [
       "     C/A  UNIT       SCP STATION       DATE  ENTRIES   PREV_DATE  \\\n",
       "1   A002  R051  02-00-00   59 ST 2019-12-29  7325774  2019-12-28   \n",
       "2   A002  R051  02-00-00   59 ST 2019-12-30  7326944  2019-12-29   \n",
       "3   A002  R051  02-00-00   59 ST 2019-12-31  7327981  2019-12-30   \n",
       "4   A002  R051  02-00-00   59 ST 2020-01-01  7328499  2019-12-31   \n",
       "5   A002  R051  02-00-00   59 ST 2020-01-02  7329882  2020-01-01   \n",
       "6   A002  R051  02-00-00   59 ST 2020-01-03  7331169  2020-01-02   \n",
       "7   A002  R051  02-00-00   59 ST 2020-01-04  7331951  2020-01-03   \n",
       "8   A002  R051  02-00-00   59 ST 2020-01-05  7332543  2020-01-04   \n",
       "9   A002  R051  02-00-00   59 ST 2020-01-06  7333879  2020-01-05   \n",
       "10  A002  R051  02-00-00   59 ST 2020-01-07  7335258  2020-01-06   \n",
       "\n",
       "    PREV_ENTRIES  DAILY_ENTRIES  \n",
       "1      7325143.0          631.0  \n",
       "2      7325774.0         1170.0  \n",
       "3      7326944.0         1037.0  \n",
       "4      7327981.0          518.0  \n",
       "5      7328499.0         1383.0  \n",
       "6      7329882.0         1287.0  \n",
       "7      7331169.0          782.0  \n",
       "8      7331951.0          592.0  \n",
       "9      7332543.0         1336.0  \n",
       "10     7333879.0         1379.0  "
      ]
     },
     "execution_count": 54,
     "metadata": {},
     "output_type": "execute_result"
    }
   ],
   "source": [
    "turnstiles_daily.head(10)"
   ]
  },
  {
   "cell_type": "markdown",
   "metadata": {},
   "source": [
    "### At the station level"
   ]
  },
  {
   "cell_type": "code",
   "execution_count": 113,
   "metadata": {},
   "outputs": [],
   "source": [
    "# calculate daily entries by station\n",
    "stations_daily = \\\n",
    "(turnstiles_daily.groupby(['STATION','DATE'])['DAILY_ENTRIES'].sum()\n",
    "                 .reset_index())"
   ]
  },
  {
   "cell_type": "code",
   "execution_count": 114,
   "metadata": {},
   "outputs": [
    {
     "data": {
      "text/html": [
       "<div>\n",
       "<style scoped>\n",
       "    .dataframe tbody tr th:only-of-type {\n",
       "        vertical-align: middle;\n",
       "    }\n",
       "\n",
       "    .dataframe tbody tr th {\n",
       "        vertical-align: top;\n",
       "    }\n",
       "\n",
       "    .dataframe thead th {\n",
       "        text-align: right;\n",
       "    }\n",
       "</style>\n",
       "<table border=\"1\" class=\"dataframe\">\n",
       "  <thead>\n",
       "    <tr style=\"text-align: right;\">\n",
       "      <th></th>\n",
       "      <th>STATION</th>\n",
       "      <th>DATE</th>\n",
       "      <th>DAILY_ENTRIES</th>\n",
       "    </tr>\n",
       "  </thead>\n",
       "  <tbody>\n",
       "    <tr>\n",
       "      <th>0</th>\n",
       "      <td>1 AV</td>\n",
       "      <td>2019-12-29</td>\n",
       "      <td>2933.0</td>\n",
       "    </tr>\n",
       "    <tr>\n",
       "      <th>1</th>\n",
       "      <td>1 AV</td>\n",
       "      <td>2019-12-30</td>\n",
       "      <td>6672.0</td>\n",
       "    </tr>\n",
       "    <tr>\n",
       "      <th>2</th>\n",
       "      <td>1 AV</td>\n",
       "      <td>2019-12-31</td>\n",
       "      <td>5699.0</td>\n",
       "    </tr>\n",
       "    <tr>\n",
       "      <th>3</th>\n",
       "      <td>1 AV</td>\n",
       "      <td>2020-01-01</td>\n",
       "      <td>7253.0</td>\n",
       "    </tr>\n",
       "    <tr>\n",
       "      <th>4</th>\n",
       "      <td>1 AV</td>\n",
       "      <td>2020-01-02</td>\n",
       "      <td>6003.0</td>\n",
       "    </tr>\n",
       "  </tbody>\n",
       "</table>\n",
       "</div>"
      ],
      "text/plain": [
       "  STATION       DATE  DAILY_ENTRIES\n",
       "0    1 AV 2019-12-29         2933.0\n",
       "1    1 AV 2019-12-30         6672.0\n",
       "2    1 AV 2019-12-31         5699.0\n",
       "3    1 AV 2020-01-01         7253.0\n",
       "4    1 AV 2020-01-02         6003.0"
      ]
     },
     "execution_count": 114,
     "metadata": {},
     "output_type": "execute_result"
    }
   ],
   "source": [
    "stations_daily.head()"
   ]
  },
  {
   "cell_type": "markdown",
   "metadata": {},
   "source": [
    "### Calculating the top 10 stations by cumulative 2020 rides"
   ]
  },
  {
   "cell_type": "code",
   "execution_count": 115,
   "metadata": {},
   "outputs": [],
   "source": [
    "# top 10 stations by daily volume\n",
    "# (sum across all days is a reasonable way to define this)\n",
    "top10_stations_stations_only = \\\n",
    "    (stations_daily.groupby(['STATION'])['DAILY_ENTRIES'].sum()\n",
    "                   .reset_index()\n",
    "                   .sort_values(by='DAILY_ENTRIES',ascending=False) \n",
    "                   .STATION.head(10))"
   ]
  },
  {
   "cell_type": "code",
   "execution_count": 116,
   "metadata": {},
   "outputs": [],
   "source": [
    "# Create a dataframe that is daily entries for only the top 10\n",
    "stations_daily_top10 = \\\n",
    "   stations_daily[stations_daily['STATION'].isin(top10_stations_stations_only)]"
   ]
  },
  {
   "cell_type": "code",
   "execution_count": 117,
   "metadata": {},
   "outputs": [],
   "source": [
    "# Creating a dataframe that includes total annual entries for only the top10\n",
    "top10_stations = \\\n",
    "    stations_daily_top10.groupby([\"STATION\"])['DAILY_ENTRIES'].sum().reset_index().sort_values(by=\"DAILY_ENTRIES\",ascending=False)"
   ]
  },
  {
   "cell_type": "code",
   "execution_count": 118,
   "metadata": {},
   "outputs": [
    {
     "data": {
      "image/png": "[encoded data removed]",
      "text/plain": [
       "<Figure size 432x288 with 1 Axes>"
      ]
     },
     "metadata": {
      "needs_background": "light"
     },
     "output_type": "display_data"
    }
   ],
   "source": [
    "totals_plot = sns.barplot(x = 'DAILY_ENTRIES', y = \"STATION\",data=top10_stations,color=\"gray\")\n",
    "plt.tight_layout()\n",
    "plt.savefig('cumulative_top_10.png')"
   ]
  },
  {
   "cell_type": "code",
   "execution_count": 119,
   "metadata": {},
   "outputs": [
    {
     "data": {
      "text/html": [
       "<div>\n",
       "<style scoped>\n",
       "    .dataframe tbody tr th:only-of-type {\n",
       "        vertical-align: middle;\n",
       "    }\n",
       "\n",
       "    .dataframe tbody tr th {\n",
       "        vertical-align: top;\n",
       "    }\n",
       "\n",
       "    .dataframe thead th {\n",
       "        text-align: right;\n",
       "    }\n",
       "</style>\n",
       "<table border=\"1\" class=\"dataframe\">\n",
       "  <thead>\n",
       "    <tr style=\"text-align: right;\">\n",
       "      <th></th>\n",
       "      <th>DATE</th>\n",
       "      <th>DAILY_ENTRIES</th>\n",
       "    </tr>\n",
       "  </thead>\n",
       "  <tbody>\n",
       "    <tr>\n",
       "      <th>0</th>\n",
       "      <td>2019-12-29</td>\n",
       "      <td>351169.0</td>\n",
       "    </tr>\n",
       "    <tr>\n",
       "      <th>1</th>\n",
       "      <td>2019-12-30</td>\n",
       "      <td>473175.0</td>\n",
       "    </tr>\n",
       "    <tr>\n",
       "      <th>2</th>\n",
       "      <td>2019-12-31</td>\n",
       "      <td>461834.0</td>\n",
       "    </tr>\n",
       "    <tr>\n",
       "      <th>3</th>\n",
       "      <td>2020-01-01</td>\n",
       "      <td>365802.0</td>\n",
       "    </tr>\n",
       "    <tr>\n",
       "      <th>4</th>\n",
       "      <td>2020-01-02</td>\n",
       "      <td>452605.0</td>\n",
       "    </tr>\n",
       "    <tr>\n",
       "      <th>...</th>\n",
       "      <td>...</td>\n",
       "      <td>...</td>\n",
       "    </tr>\n",
       "    <tr>\n",
       "      <th>358</th>\n",
       "      <td>2020-12-21</td>\n",
       "      <td>245033.0</td>\n",
       "    </tr>\n",
       "    <tr>\n",
       "      <th>359</th>\n",
       "      <td>2020-12-22</td>\n",
       "      <td>251595.0</td>\n",
       "    </tr>\n",
       "    <tr>\n",
       "      <th>360</th>\n",
       "      <td>2020-12-23</td>\n",
       "      <td>252719.0</td>\n",
       "    </tr>\n",
       "    <tr>\n",
       "      <th>361</th>\n",
       "      <td>2020-12-24</td>\n",
       "      <td>184699.0</td>\n",
       "    </tr>\n",
       "    <tr>\n",
       "      <th>362</th>\n",
       "      <td>2020-12-25</td>\n",
       "      <td>63517.0</td>\n",
       "    </tr>\n",
       "  </tbody>\n",
       "</table>\n",
       "<p>363 rows × 2 columns</p>\n",
       "</div>"
      ],
      "text/plain": [
       "          DATE  DAILY_ENTRIES\n",
       "0   2019-12-29       351169.0\n",
       "1   2019-12-30       473175.0\n",
       "2   2019-12-31       461834.0\n",
       "3   2020-01-01       365802.0\n",
       "4   2020-01-02       452605.0\n",
       "..         ...            ...\n",
       "358 2020-12-21       245033.0\n",
       "359 2020-12-22       251595.0\n",
       "360 2020-12-23       252719.0\n",
       "361 2020-12-24       184699.0\n",
       "362 2020-12-25        63517.0\n",
       "\n",
       "[363 rows x 2 columns]"
      ]
     },
     "execution_count": 119,
     "metadata": {},
     "output_type": "execute_result"
    }
   ],
   "source": [
    "# summing daily rides for the top 10 stations\n",
    "\n",
    "daily_totals_top10 = \\\n",
    "    (stations_daily_top10.groupby(['DATE'])['DAILY_ENTRIES'].sum().reset_index())\n",
    "daily_totals_top10"
   ]
  },
  {
   "cell_type": "markdown",
   "metadata": {},
   "source": [
    "### Time trends for top 10 stations"
   ]
  },
  {
   "cell_type": "code",
   "execution_count": 120,
   "metadata": {},
   "outputs": [
    {
     "data": {
      "image/png": "[encoded data removed]",
      "text/plain": [
       "<Figure size 432x288 with 1 Axes>"
      ]
     },
     "metadata": {
      "needs_background": "light"
     },
     "output_type": "display_data"
    }
   ],
   "source": [
    "# top 10 stations aggregate trends\n",
    "sns.lineplot(x = \"DATE\",y = \"DAILY_ENTRIES\",data=daily_totals_top10)\n",
    "plt.tight_layout()\n",
    "plt.savefig('daily_entry_time_series.png')"
   ]
  },
  {
   "cell_type": "code",
   "execution_count": 121,
   "metadata": {},
   "outputs": [
    {
     "data": {
      "image/png": "[encoded data removed]",
      "text/plain": [
       "<Figure size 432x288 with 1 Axes>"
      ]
     },
     "metadata": {
      "needs_background": "light"
     },
     "output_type": "display_data"
    }
   ],
   "source": [
    "sns.lineplot(x = \"DATE\",y = \"DAILY_ENTRIES\",ci=None,hue='STATION',data=stations_daily_top10)\n",
    "plt.tight_layout()\n",
    "plt.savefig('daily_entry_time_series_individual.png')"
   ]
  },
  {
   "cell_type": "code",
   "execution_count": 122,
   "metadata": {},
   "outputs": [],
   "source": [
    "# The above graph suggests taht all of the top units followed similar patterns, \n",
    "# I create a mask to limit the dataset to be since march to reduce the y axis and more closely compare trends"
   ]
  },
  {
   "cell_type": "code",
   "execution_count": 123,
   "metadata": {},
   "outputs": [],
   "source": [
    "# Converting to datetime to allow filtering on date"
   ]
  },
  {
   "cell_type": "code",
   "execution_count": 124,
   "metadata": {},
   "outputs": [
    {
     "data": {
      "text/plain": [
       "STATION                  object\n",
       "DATE             datetime64[ns]\n",
       "DAILY_ENTRIES           float64\n",
       "dtype: object"
      ]
     },
     "execution_count": 124,
     "metadata": {},
     "output_type": "execute_result"
    }
   ],
   "source": [
    "stations_daily_top10.dtypes"
   ]
  },
  {
   "cell_type": "code",
   "execution_count": 125,
   "metadata": {},
   "outputs": [
    {
     "name": "stderr",
     "output_type": "stream",
     "text": [
      "<ipython-input-125-1d48a5ab4600>:1: SettingWithCopyWarning: \n",
      "A value is trying to be set on a copy of a slice from a DataFrame.\n",
      "Try using .loc[row_indexer,col_indexer] = value instead\n",
      "\n",
      "See the caveats in the documentation: https://pandas.pydata.org/pandas-docs/stable/user_guide/indexing.html#returning-a-view-versus-a-copy\n",
      "  stations_daily_top10['DATE'] = pd.to_datetime(stations_daily_top10['DATE'])\n"
     ]
    }
   ],
   "source": [
    "stations_daily_top10['DATE'] = pd.to_datetime(stations_daily_top10['DATE'])"
   ]
  },
  {
   "cell_type": "code",
   "execution_count": 126,
   "metadata": {},
   "outputs": [
    {
     "data": {
      "text/plain": [
       "STATION                  object\n",
       "DATE             datetime64[ns]\n",
       "DAILY_ENTRIES           float64\n",
       "dtype: object"
      ]
     },
     "execution_count": 126,
     "metadata": {},
     "output_type": "execute_result"
    }
   ],
   "source": [
    "stations_daily_top10.dtypes"
   ]
  },
  {
   "cell_type": "code",
   "execution_count": 127,
   "metadata": {},
   "outputs": [],
   "source": [
    "start_date = '03-15-2020'"
   ]
  },
  {
   "cell_type": "code",
   "execution_count": 128,
   "metadata": {},
   "outputs": [],
   "source": [
    "mask = (stations_daily_top10['DATE'] > start_date)"
   ]
  },
  {
   "cell_type": "code",
   "execution_count": 129,
   "metadata": {},
   "outputs": [],
   "source": [
    "stations_daily_top10_since_mid_march = stations_daily_top10.loc[mask]"
   ]
  },
  {
   "cell_type": "code",
   "execution_count": 130,
   "metadata": {},
   "outputs": [
    {
     "data": {
      "text/html": [
       "<div>\n",
       "<style scoped>\n",
       "    .dataframe tbody tr th:only-of-type {\n",
       "        vertical-align: middle;\n",
       "    }\n",
       "\n",
       "    .dataframe tbody tr th {\n",
       "        vertical-align: top;\n",
       "    }\n",
       "\n",
       "    .dataframe thead th {\n",
       "        text-align: right;\n",
       "    }\n",
       "</style>\n",
       "<table border=\"1\" class=\"dataframe\">\n",
       "  <thead>\n",
       "    <tr style=\"text-align: right;\">\n",
       "      <th></th>\n",
       "      <th>STATION</th>\n",
       "      <th>DATE</th>\n",
       "      <th>DAILY_ENTRIES</th>\n",
       "    </tr>\n",
       "  </thead>\n",
       "  <tbody>\n",
       "    <tr>\n",
       "      <th>3329</th>\n",
       "      <td>125 ST</td>\n",
       "      <td>2020-03-16</td>\n",
       "      <td>32596.0</td>\n",
       "    </tr>\n",
       "    <tr>\n",
       "      <th>3330</th>\n",
       "      <td>125 ST</td>\n",
       "      <td>2020-03-17</td>\n",
       "      <td>33481.0</td>\n",
       "    </tr>\n",
       "    <tr>\n",
       "      <th>3331</th>\n",
       "      <td>125 ST</td>\n",
       "      <td>2020-03-18</td>\n",
       "      <td>31506.0</td>\n",
       "    </tr>\n",
       "    <tr>\n",
       "      <th>3332</th>\n",
       "      <td>125 ST</td>\n",
       "      <td>2020-03-19</td>\n",
       "      <td>28489.0</td>\n",
       "    </tr>\n",
       "    <tr>\n",
       "      <th>3333</th>\n",
       "      <td>125 ST</td>\n",
       "      <td>2020-03-20</td>\n",
       "      <td>27013.0</td>\n",
       "    </tr>\n",
       "  </tbody>\n",
       "</table>\n",
       "</div>"
      ],
      "text/plain": [
       "     STATION       DATE  DAILY_ENTRIES\n",
       "3329  125 ST 2020-03-16        32596.0\n",
       "3330  125 ST 2020-03-17        33481.0\n",
       "3331  125 ST 2020-03-18        31506.0\n",
       "3332  125 ST 2020-03-19        28489.0\n",
       "3333  125 ST 2020-03-20        27013.0"
      ]
     },
     "execution_count": 130,
     "metadata": {},
     "output_type": "execute_result"
    }
   ],
   "source": [
    "stations_daily_top10_since_mid_march.head()"
   ]
  },
  {
   "cell_type": "code",
   "execution_count": 131,
   "metadata": {},
   "outputs": [
    {
     "data": {
      "text/plain": [
       "<AxesSubplot:xlabel='DATE', ylabel='DAILY_ENTRIES'>"
      ]
     },
     "execution_count": 131,
     "metadata": {},
     "output_type": "execute_result"
    },
    {
     "data": {
      "image/png": "[encoded data removed]",
      "text/plain": [
       "<Figure size 432x288 with 1 Axes>"
      ]
     },
     "metadata": {
      "needs_background": "light"
     },
     "output_type": "display_data"
    }
   ],
   "source": [
    "# Regraphing lineplot with dates reduced to since March\n",
    "sns.lineplot(x = \"DATE\",y =\"DAILY_ENTRIES\",ci=None,hue='STATION',data=stations_daily_top10_since_mid_march)"
   ]
  },
  {
   "cell_type": "markdown",
   "metadata": {},
   "source": [
    "### Focussing on days of the week"
   ]
  },
  {
   "cell_type": "code",
   "execution_count": 132,
   "metadata": {},
   "outputs": [],
   "source": [
    "# creating a column for day of week in top 10 dataframe"
   ]
  },
  {
   "cell_type": "code",
   "execution_count": 133,
   "metadata": {},
   "outputs": [
    {
     "name": "stderr",
     "output_type": "stream",
     "text": [
      "<ipython-input-133-6a36ab525984>:1: SettingWithCopyWarning: \n",
      "A value is trying to be set on a copy of a slice from a DataFrame.\n",
      "Try using .loc[row_indexer,col_indexer] = value instead\n",
      "\n",
      "See the caveats in the documentation: https://pandas.pydata.org/pandas-docs/stable/user_guide/indexing.html#returning-a-view-versus-a-copy\n",
      "  stations_daily_top10['day_of_week'] = stations_daily_top10['DATE'].dt.day_name()\n"
     ]
    }
   ],
   "source": [
    "stations_daily_top10['day_of_week'] = stations_daily_top10['DATE'].dt.day_name()"
   ]
  },
  {
   "cell_type": "code",
   "execution_count": 134,
   "metadata": {},
   "outputs": [
    {
     "data": {
      "text/html": [
       "<div>\n",
       "<style scoped>\n",
       "    .dataframe tbody tr th:only-of-type {\n",
       "        vertical-align: middle;\n",
       "    }\n",
       "\n",
       "    .dataframe tbody tr th {\n",
       "        vertical-align: top;\n",
       "    }\n",
       "\n",
       "    .dataframe thead th {\n",
       "        text-align: right;\n",
       "    }\n",
       "</style>\n",
       "<table border=\"1\" class=\"dataframe\">\n",
       "  <thead>\n",
       "    <tr style=\"text-align: right;\">\n",
       "      <th></th>\n",
       "      <th>STATION</th>\n",
       "      <th>DATE</th>\n",
       "      <th>DAILY_ENTRIES</th>\n",
       "      <th>day_of_week</th>\n",
       "    </tr>\n",
       "  </thead>\n",
       "  <tbody>\n",
       "    <tr>\n",
       "      <th>3251</th>\n",
       "      <td>125 ST</td>\n",
       "      <td>2019-12-29</td>\n",
       "      <td>27088.0</td>\n",
       "      <td>Sunday</td>\n",
       "    </tr>\n",
       "    <tr>\n",
       "      <th>3252</th>\n",
       "      <td>125 ST</td>\n",
       "      <td>2019-12-30</td>\n",
       "      <td>40012.0</td>\n",
       "      <td>Monday</td>\n",
       "    </tr>\n",
       "    <tr>\n",
       "      <th>3253</th>\n",
       "      <td>125 ST</td>\n",
       "      <td>2019-12-31</td>\n",
       "      <td>43837.0</td>\n",
       "      <td>Tuesday</td>\n",
       "    </tr>\n",
       "    <tr>\n",
       "      <th>3254</th>\n",
       "      <td>125 ST</td>\n",
       "      <td>2020-01-01</td>\n",
       "      <td>33529.0</td>\n",
       "      <td>Wednesday</td>\n",
       "    </tr>\n",
       "    <tr>\n",
       "      <th>3255</th>\n",
       "      <td>125 ST</td>\n",
       "      <td>2020-01-02</td>\n",
       "      <td>45638.0</td>\n",
       "      <td>Thursday</td>\n",
       "    </tr>\n",
       "  </tbody>\n",
       "</table>\n",
       "</div>"
      ],
      "text/plain": [
       "     STATION       DATE  DAILY_ENTRIES day_of_week\n",
       "3251  125 ST 2019-12-29        27088.0      Sunday\n",
       "3252  125 ST 2019-12-30        40012.0      Monday\n",
       "3253  125 ST 2019-12-31        43837.0     Tuesday\n",
       "3254  125 ST 2020-01-01        33529.0   Wednesday\n",
       "3255  125 ST 2020-01-02        45638.0    Thursday"
      ]
     },
     "execution_count": 134,
     "metadata": {},
     "output_type": "execute_result"
    }
   ],
   "source": [
    "stations_daily_top10.head()"
   ]
  },
  {
   "cell_type": "code",
   "execution_count": 135,
   "metadata": {},
   "outputs": [],
   "source": [
    "totals_top_10_day_of_week = \\\n",
    "    (stations_daily_top10.groupby(['day_of_week'])['DAILY_ENTRIES']).sum().reset_index().sort_values(by='DAILY_ENTRIES',ascending=False)"
   ]
  },
  {
   "cell_type": "code",
   "execution_count": 136,
   "metadata": {},
   "outputs": [
    {
     "data": {
      "text/html": [
       "<div>\n",
       "<style scoped>\n",
       "    .dataframe tbody tr th:only-of-type {\n",
       "        vertical-align: middle;\n",
       "    }\n",
       "\n",
       "    .dataframe tbody tr th {\n",
       "        vertical-align: top;\n",
       "    }\n",
       "\n",
       "    .dataframe thead th {\n",
       "        text-align: right;\n",
       "    }\n",
       "</style>\n",
       "<table border=\"1\" class=\"dataframe\">\n",
       "  <thead>\n",
       "    <tr style=\"text-align: right;\">\n",
       "      <th></th>\n",
       "      <th>day_of_week</th>\n",
       "      <th>DAILY_ENTRIES</th>\n",
       "    </tr>\n",
       "  </thead>\n",
       "  <tbody>\n",
       "    <tr>\n",
       "      <th>5</th>\n",
       "      <td>Tuesday</td>\n",
       "      <td>12013899.0</td>\n",
       "    </tr>\n",
       "    <tr>\n",
       "      <th>6</th>\n",
       "      <td>Wednesday</td>\n",
       "      <td>11925389.0</td>\n",
       "    </tr>\n",
       "    <tr>\n",
       "      <th>0</th>\n",
       "      <td>Friday</td>\n",
       "      <td>11693876.0</td>\n",
       "    </tr>\n",
       "    <tr>\n",
       "      <th>1</th>\n",
       "      <td>Monday</td>\n",
       "      <td>11684626.0</td>\n",
       "    </tr>\n",
       "    <tr>\n",
       "      <th>4</th>\n",
       "      <td>Thursday</td>\n",
       "      <td>11669848.0</td>\n",
       "    </tr>\n",
       "    <tr>\n",
       "      <th>2</th>\n",
       "      <td>Saturday</td>\n",
       "      <td>8469056.0</td>\n",
       "    </tr>\n",
       "    <tr>\n",
       "      <th>3</th>\n",
       "      <td>Sunday</td>\n",
       "      <td>7376438.0</td>\n",
       "    </tr>\n",
       "  </tbody>\n",
       "</table>\n",
       "</div>"
      ],
      "text/plain": [
       "  day_of_week  DAILY_ENTRIES\n",
       "5     Tuesday     12013899.0\n",
       "6   Wednesday     11925389.0\n",
       "0      Friday     11693876.0\n",
       "1      Monday     11684626.0\n",
       "4    Thursday     11669848.0\n",
       "2    Saturday      8469056.0\n",
       "3      Sunday      7376438.0"
      ]
     },
     "execution_count": 136,
     "metadata": {},
     "output_type": "execute_result"
    }
   ],
   "source": [
    "totals_top_10_day_of_week.head(10)"
   ]
  },
  {
   "cell_type": "code",
   "execution_count": 137,
   "metadata": {},
   "outputs": [
    {
     "data": {
      "image/png": "[encoded data removed]",
      "text/plain": [
       "<Figure size 432x288 with 1 Axes>"
      ]
     },
     "metadata": {
      "needs_background": "light"
     },
     "output_type": "display_data"
    }
   ],
   "source": [
    "sns.barplot(x = 'DAILY_ENTRIES',y = \"day_of_week\",data=totals_top_10_day_of_week,color=\"gray\",ci=\"68\")\n",
    "plt.tight_layout()\n",
    "plt.savefig('day_of_week.png')"
   ]
  },
  {
   "cell_type": "markdown",
   "metadata": {},
   "source": [
    "# Weather Analysis"
   ]
  },
  {
   "cell_type": "code",
   "execution_count": 138,
   "metadata": {},
   "outputs": [],
   "source": [
    "# We want a dataframe with daily sums for the top 10 over our time range"
   ]
  },
  {
   "cell_type": "code",
   "execution_count": 139,
   "metadata": {},
   "outputs": [
    {
     "data": {
      "text/html": [
       "<div>\n",
       "<style scoped>\n",
       "    .dataframe tbody tr th:only-of-type {\n",
       "        vertical-align: middle;\n",
       "    }\n",
       "\n",
       "    .dataframe tbody tr th {\n",
       "        vertical-align: top;\n",
       "    }\n",
       "\n",
       "    .dataframe thead th {\n",
       "        text-align: right;\n",
       "    }\n",
       "</style>\n",
       "<table border=\"1\" class=\"dataframe\">\n",
       "  <thead>\n",
       "    <tr style=\"text-align: right;\">\n",
       "      <th></th>\n",
       "      <th>DATE</th>\n",
       "      <th>DAILY_ENTRIES</th>\n",
       "      <th>date</th>\n",
       "      <th>max_temp</th>\n",
       "      <th>total_prcp</th>\n",
       "      <th>total_snow</th>\n",
       "      <th>rainy_day</th>\n",
       "      <th>snowy_day</th>\n",
       "      <th>hot_day</th>\n",
       "      <th>cold_day</th>\n",
       "    </tr>\n",
       "  </thead>\n",
       "  <tbody>\n",
       "    <tr>\n",
       "      <th>0</th>\n",
       "      <td>2020-01-01</td>\n",
       "      <td>365802.0</td>\n",
       "      <td>2020-01-01</td>\n",
       "      <td>41.00</td>\n",
       "      <td>0.000000</td>\n",
       "      <td>0.0</td>\n",
       "      <td>not rainy</td>\n",
       "      <td>not snowy</td>\n",
       "      <td>not hot</td>\n",
       "      <td>not cold</td>\n",
       "    </tr>\n",
       "    <tr>\n",
       "      <th>1</th>\n",
       "      <td>2020-01-02</td>\n",
       "      <td>452605.0</td>\n",
       "      <td>2020-01-02</td>\n",
       "      <td>48.92</td>\n",
       "      <td>0.000000</td>\n",
       "      <td>0.0</td>\n",
       "      <td>not rainy</td>\n",
       "      <td>not snowy</td>\n",
       "      <td>not hot</td>\n",
       "      <td>not cold</td>\n",
       "    </tr>\n",
       "    <tr>\n",
       "      <th>2</th>\n",
       "      <td>2020-01-03</td>\n",
       "      <td>450432.0</td>\n",
       "      <td>2020-01-03</td>\n",
       "      <td>48.92</td>\n",
       "      <td>0.149606</td>\n",
       "      <td>0.0</td>\n",
       "      <td>not rainy</td>\n",
       "      <td>not snowy</td>\n",
       "      <td>not hot</td>\n",
       "      <td>not cold</td>\n",
       "    </tr>\n",
       "    <tr>\n",
       "      <th>3</th>\n",
       "      <td>2020-01-04</td>\n",
       "      <td>374201.0</td>\n",
       "      <td>2020-01-04</td>\n",
       "      <td>51.08</td>\n",
       "      <td>0.271654</td>\n",
       "      <td>0.0</td>\n",
       "      <td>rainy</td>\n",
       "      <td>not snowy</td>\n",
       "      <td>not hot</td>\n",
       "      <td>not cold</td>\n",
       "    </tr>\n",
       "    <tr>\n",
       "      <th>4</th>\n",
       "      <td>2020-01-05</td>\n",
       "      <td>351184.0</td>\n",
       "      <td>2020-01-05</td>\n",
       "      <td>42.08</td>\n",
       "      <td>0.000000</td>\n",
       "      <td>0.0</td>\n",
       "      <td>not rainy</td>\n",
       "      <td>not snowy</td>\n",
       "      <td>not hot</td>\n",
       "      <td>not cold</td>\n",
       "    </tr>\n",
       "  </tbody>\n",
       "</table>\n",
       "</div>"
      ],
      "text/plain": [
       "        DATE  DAILY_ENTRIES       date  max_temp  total_prcp  total_snow  \\\n",
       "0 2020-01-01       365802.0 2020-01-01     41.00    0.000000         0.0   \n",
       "1 2020-01-02       452605.0 2020-01-02     48.92    0.000000         0.0   \n",
       "2 2020-01-03       450432.0 2020-01-03     48.92    0.149606         0.0   \n",
       "3 2020-01-04       374201.0 2020-01-04     51.08    0.271654         0.0   \n",
       "4 2020-01-05       351184.0 2020-01-05     42.08    0.000000         0.0   \n",
       "\n",
       "   rainy_day  snowy_day  hot_day  cold_day  \n",
       "0  not rainy  not snowy  not hot  not cold  \n",
       "1  not rainy  not snowy  not hot  not cold  \n",
       "2  not rainy  not snowy  not hot  not cold  \n",
       "3      rainy  not snowy  not hot  not cold  \n",
       "4  not rainy  not snowy  not hot  not cold  "
      ]
     },
     "execution_count": 139,
     "metadata": {},
     "output_type": "execute_result"
    }
   ],
   "source": [
    "# Merging daily_totals_top 10 with weathe dataset\n",
    "\n",
    "daily_totals_weather_top10 = pd.merge(left = daily_totals_top10, right = df_weather, left_on = 'DATE', right_on = 'date')\n",
    "daily_totals_weather_top10.head()"
   ]
  },
  {
   "cell_type": "code",
   "execution_count": 140,
   "metadata": {},
   "outputs": [],
   "source": [
    "# Restrict data to mid-march, cannot compare randomly distributed weather events pre-pandemic\n",
    "start_date = '03-15-2020'\n",
    "mask = (daily_totals_weather_top10['DATE'] > start_date)\n",
    "daily_totals_weather_top10_mid_march = daily_totals_weather_top10[mask]"
   ]
  },
  {
   "cell_type": "code",
   "execution_count": 141,
   "metadata": {},
   "outputs": [
    {
     "data": {
      "image/png": "[encoded data removed]",
      "text/plain": [
       "<Figure size 432x288 with 1 Axes>"
      ]
     },
     "metadata": {
      "needs_background": "light"
     },
     "output_type": "display_data"
    }
   ],
   "source": [
    "# Comparing rainy days\n",
    "sns.barplot(x = 'rainy_day', y = \"DAILY_ENTRIES\",data=daily_totals_weather_top10_mid_march,color=\"gray\")\n",
    "plt.tight_layout()\n",
    "plt.savefig('rainy_day.png')"
   ]
  },
  {
   "cell_type": "code",
   "execution_count": 142,
   "metadata": {},
   "outputs": [
    {
     "data": {
      "image/png": "[encoded data removed]",
      "text/plain": [
       "<Figure size 432x288 with 1 Axes>"
      ]
     },
     "metadata": {
      "needs_background": "light"
     },
     "output_type": "display_data"
    }
   ],
   "source": [
    "# Comparing\n",
    "sns.barplot(x = 'snowy_day', y = \"DAILY_ENTRIES\",data=daily_totals_weather_top10_mid_march,color=\"gray\")\n",
    "plt.tight_layout()\n",
    "plt.savefig('snowy_day.png')"
   ]
  },
  {
   "cell_type": "code",
   "execution_count": 143,
   "metadata": {},
   "outputs": [
    {
     "data": {
      "image/png": "[encoded data removed]",
      "text/plain": [
       "<Figure size 432x288 with 1 Axes>"
      ]
     },
     "metadata": {
      "needs_background": "light"
     },
     "output_type": "display_data"
    }
   ],
   "source": [
    "sns.barplot(x = 'hot_day', y = \"DAILY_ENTRIES\",data=daily_totals_weather_top10_mid_march,color=\"gray\")\n",
    "plt.tight_layout()\n",
    "plt.savefig('hot_day.png')"
   ]
  },
  {
   "cell_type": "code",
   "execution_count": 144,
   "metadata": {},
   "outputs": [
    {
     "data": {
      "image/png": "[encoded data removed]",
      "text/plain": [
       "<Figure size 432x288 with 1 Axes>"
      ]
     },
     "metadata": {
      "needs_background": "light"
     },
     "output_type": "display_data"
    }
   ],
   "source": [
    "sns.barplot(x = 'cold_day', y = \"DAILY_ENTRIES\",data=daily_totals_weather_top10_mid_march,color=\"gray\")\n",
    "plt.tight_layout()\n",
    "plt.savefig('cold_day.png')"
   ]
  },
  {
   "cell_type": "code",
   "execution_count": 145,
   "metadata": {},
   "outputs": [],
   "source": [
    "# Restrict data to mid-march, cannot compare randomly distributed weather events pre-pandemic\n",
    "start_date = '03-15-2020'\n",
    "mask = (daily_totals_weather_top10['DATE'] > start_date)\n",
    "daily_totals_weather_top10_mid_march = daily_totals_weather_top10[mask]"
   ]
  },
  {
   "cell_type": "markdown",
   "metadata": {},
   "source": [
    "# Comparison stats for presentation"
   ]
  },
  {
   "cell_type": "code",
   "execution_count": 146,
   "metadata": {},
   "outputs": [],
   "source": [
    "# Want to calculate the average cumulative entries"
   ]
  },
  {
   "cell_type": "code",
   "execution_count": 147,
   "metadata": {},
   "outputs": [],
   "source": [
    "all_cumulative_stations = \\\n",
    "    (stations_daily.groupby(['STATION'])['DAILY_ENTRIES'].sum()\n",
    "                   .reset_index()\n",
    "                   .sort_values(by='DAILY_ENTRIES',ascending=False))"
   ]
  },
  {
   "cell_type": "code",
   "execution_count": 148,
   "metadata": {},
   "outputs": [],
   "source": [
    "cum_average = all_cumulative_stations['DAILY_ENTRIES'].mean()"
   ]
  },
  {
   "cell_type": "code",
   "execution_count": 149,
   "metadata": {},
   "outputs": [],
   "source": [
    "# create a new column in the top10_stations dataframe that represents the multiple of the average (i.e. 5x volume)"
   ]
  },
  {
   "cell_type": "code",
   "execution_count": 150,
   "metadata": {},
   "outputs": [],
   "source": [
    "#top10_stations['multiple_average'] = [df['DAILY_ENTRIES']/cum_average for "
   ]
  },
  {
   "cell_type": "code",
   "execution_count": 151,
   "metadata": {},
   "outputs": [],
   "source": [
    "top10_stations['multiple_average'] = [item/cum_average for item in top10_stations['DAILY_ENTRIES']]"
   ]
  },
  {
   "cell_type": "code",
   "execution_count": 152,
   "metadata": {},
   "outputs": [
    {
     "data": {
      "text/html": [
       "<div>\n",
       "<style scoped>\n",
       "    .dataframe tbody tr th:only-of-type {\n",
       "        vertical-align: middle;\n",
       "    }\n",
       "\n",
       "    .dataframe tbody tr th {\n",
       "        vertical-align: top;\n",
       "    }\n",
       "\n",
       "    .dataframe thead th {\n",
       "        text-align: right;\n",
       "    }\n",
       "</style>\n",
       "<table border=\"1\" class=\"dataframe\">\n",
       "  <thead>\n",
       "    <tr style=\"text-align: right;\">\n",
       "      <th></th>\n",
       "      <th>STATION</th>\n",
       "      <th>DAILY_ENTRIES</th>\n",
       "      <th>multiple_average</th>\n",
       "    </tr>\n",
       "  </thead>\n",
       "  <tbody>\n",
       "    <tr>\n",
       "      <th>3</th>\n",
       "      <td>34 ST-PENN STA</td>\n",
       "      <td>11389339.0</td>\n",
       "      <td>8.177166</td>\n",
       "    </tr>\n",
       "    <tr>\n",
       "      <th>6</th>\n",
       "      <td>86 ST</td>\n",
       "      <td>8022167.0</td>\n",
       "      <td>5.759649</td>\n",
       "    </tr>\n",
       "    <tr>\n",
       "      <th>0</th>\n",
       "      <td>125 ST</td>\n",
       "      <td>8005955.0</td>\n",
       "      <td>5.748009</td>\n",
       "    </tr>\n",
       "    <tr>\n",
       "      <th>1</th>\n",
       "      <td>23 ST</td>\n",
       "      <td>7652802.0</td>\n",
       "      <td>5.494457</td>\n",
       "    </tr>\n",
       "    <tr>\n",
       "      <th>4</th>\n",
       "      <td>42 ST-PORT AUTH</td>\n",
       "      <td>7284479.0</td>\n",
       "      <td>5.230013</td>\n",
       "    </tr>\n",
       "    <tr>\n",
       "      <th>7</th>\n",
       "      <td>FULTON ST</td>\n",
       "      <td>7037484.0</td>\n",
       "      <td>5.052679</td>\n",
       "    </tr>\n",
       "    <tr>\n",
       "      <th>2</th>\n",
       "      <td>34 ST-HERALD SQ</td>\n",
       "      <td>7031880.0</td>\n",
       "      <td>5.048656</td>\n",
       "    </tr>\n",
       "    <tr>\n",
       "      <th>8</th>\n",
       "      <td>GRD CNTRL-42 ST</td>\n",
       "      <td>6387444.0</td>\n",
       "      <td>4.585972</td>\n",
       "    </tr>\n",
       "    <tr>\n",
       "      <th>5</th>\n",
       "      <td>59 ST</td>\n",
       "      <td>6045709.0</td>\n",
       "      <td>4.340618</td>\n",
       "    </tr>\n",
       "    <tr>\n",
       "      <th>9</th>\n",
       "      <td>TIMES SQ-42 ST</td>\n",
       "      <td>5975873.0</td>\n",
       "      <td>4.290478</td>\n",
       "    </tr>\n",
       "  </tbody>\n",
       "</table>\n",
       "</div>"
      ],
      "text/plain": [
       "           STATION  DAILY_ENTRIES  multiple_average\n",
       "3   34 ST-PENN STA     11389339.0          8.177166\n",
       "6            86 ST      8022167.0          5.759649\n",
       "0           125 ST      8005955.0          5.748009\n",
       "1            23 ST      7652802.0          5.494457\n",
       "4  42 ST-PORT AUTH      7284479.0          5.230013\n",
       "7        FULTON ST      7037484.0          5.052679\n",
       "2  34 ST-HERALD SQ      7031880.0          5.048656\n",
       "8  GRD CNTRL-42 ST      6387444.0          4.585972\n",
       "5            59 ST      6045709.0          4.340618\n",
       "9   TIMES SQ-42 ST      5975873.0          4.290478"
      ]
     },
     "execution_count": 152,
     "metadata": {},
     "output_type": "execute_result"
    }
   ],
   "source": [
    "top10_stations"
   ]
  },
  {
   "cell_type": "code",
   "execution_count": 5,
   "metadata": {},
   "outputs": [],
   "source": [
    "###testing"
   ]
  },
  {
   "cell_type": "code",
   "execution_count": null,
   "metadata": {},
   "outputs": [],
   "source": []
  },
  {
   "cell_type": "code",
   "execution_count": null,
   "metadata": {},
   "outputs": [],
   "source": []
  },
  {
   "cell_type": "code",
   "execution_count": null,
   "metadata": {},
   "outputs": [],
   "source": []
  },
  {
   "cell_type": "code",
   "execution_count": null,
   "metadata": {},
   "outputs": [],
   "source": []
  }
 ],
 "metadata": {
  "kernelspec": {
   "display_name": "Python 3",
   "language": "python",
   "name": "python3"
  },
  "language_info": {
   "codemirror_mode": {
    "name": "ipython",
    "version": 3
   },
   "file_extension": ".py",
   "mimetype": "text/x-python",
   "name": "python",
   "nbconvert_exporter": "python",
   "pygments_lexer": "ipython3",
   "version": "3.8.5"
  }
 },
 "nbformat": 4,
 "nbformat_minor": 4
}
