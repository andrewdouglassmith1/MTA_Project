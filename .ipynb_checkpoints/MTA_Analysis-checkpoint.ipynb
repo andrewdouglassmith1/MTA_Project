{
 "cells": [
  {
   "cell_type": "code",
   "execution_count": 2,
   "metadata": {},
   "outputs": [],
   "source": [
    "# import libraries\n",
    "\n",
    "import pandas as pd\n",
    "import zipfile, urllib, os\n",
    "from urllib.request import Request,urlopen, urlretrieve"
   ]
  },
  {
   "cell_type": "code",
   "execution_count": 3,
   "metadata": {},
   "outputs": [],
   "source": [
    "# Create a function to apply a date to the MTA format URL for each .txt file\n",
    "\n",
    "def url_creator(date):\n",
    "    ''' \n",
    "    A function to apply a date to the MTA format URL for each .txt file\n",
    "    '''\n",
    "    return \"http://web.mta.info/developers/data/nyct/turnstile/turnstile_{}.txt\".format(date)"
   ]
  },
  {
   "cell_type": "code",
   "execution_count": 4,
   "metadata": {},
   "outputs": [
    {
     "name": "stdout",
     "output_type": "stream",
     "text": [
      "['190105', '190112', '190119', '190126', '190202', '190209', '190216', '190223', '190302', '190309', '190316', '190323', '190330', '190406', '190413', '190420', '190427', '190504', '190511', '190518', '190525', '190601', '190608', '190615', '190622', '190629', '190706', '190713', '190720', '190727', '190803', '190810', '190817', '190824', '190831', '190907', '190914', '190921', '190928', '191005', '191012', '191019', '191026', '191102', '191109', '191116', '191123', '191130', '191207', '191214', '191221', '191228']\n"
     ]
    }
   ],
   "source": [
    "# Create a function to return all saturdays \n",
    "\n",
    "def saturdays(start_date,end_date):\n",
    "    ''' \n",
    "    A function to return all saturdays within two given dates\n",
    "    '''\n",
    "    dates = pd.date_range(start = start_date,end = end_date ,freq='W-SAT').strftime('%y%m%d').tolist()\n",
    "    return dates\n",
    "\n",
    "start_date = \"2020-01-01\"\n",
    "end_date = \"2021-01-01\"\n",
    "\n",
    "dates = saturdays(start_date, end_date)\n",
    "print(dates)"
   ]
  },
  {
   "cell_type": "code",
   "execution_count": 5,
   "metadata": {},
   "outputs": [],
   "source": [
    "# creat a list of dataframe's to concat\n",
    "list_df = []\n",
    "\n",
    "# add all .txt files uplodaed for the given dates using the Saturday's function to a single dataframe\n",
    "\n",
    "for date in dates:\n",
    "    # creating a variable holding the basurl for a given date\n",
    "\n",
    "    base_url = url_creator(date)\n",
    "    # add and read each file to a dataframe and add it to the list to be concated\n",
    "    \n",
    "    df = pd.read_csv(str(base_url),parse_dates = [['DATE','TIME']],index_col = 'DATE_TIME')\n",
    "    list_df.append(df)"
   ]
  },
  {
   "cell_type": "code",
   "execution_count": 6,
   "metadata": {},
   "outputs": [],
   "source": [
    "# Consolidate all weekly dataframes into one data frame\n",
    "\n",
    "consolidated_mta_data = pd.concat(list_df)"
   ]
  },
  {
   "cell_type": "code",
   "execution_count": 7,
   "metadata": {},
   "outputs": [],
   "source": [
    "# Save data frame to local \n",
    "\n",
    "consolidated_mta_data.to_csv('consolidated_mta_data.csv')"
   ]
  },
  {
   "cell_type": "code",
   "execution_count": 8,
   "metadata": {},
   "outputs": [],
   "source": [
    "# Load dataframe \n",
    "\n",
    "df = pd.read_csv(\"consolidated_mta_data.csv\")"
   ]
  },
  {
   "cell_type": "code",
   "execution_count": 11,
   "metadata": {},
   "outputs": [],
   "source": [
    "# Adding a dataset with weather for a given day\n"
   ]
  },
  {
   "cell_type": "code",
   "execution_count": null,
   "metadata": {},
   "outputs": [],
   "source": []
  }
 ],
 "metadata": {
  "kernelspec": {
   "display_name": "Python 3",
   "language": "python",
   "name": "python3"
  },
  "language_info": {
   "codemirror_mode": {
    "name": "ipython",
    "version": 3
   },
   "file_extension": ".py",
   "mimetype": "text/x-python",
   "name": "python",
   "nbconvert_exporter": "python",
   "pygments_lexer": "ipython3",
   "version": "3.8.5"
  }
 },
 "nbformat": 4,
 "nbformat_minor": 4
}
